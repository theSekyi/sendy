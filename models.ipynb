{
 "cells": [
  {
   "cell_type": "code",
   "execution_count": 54,
   "metadata": {},
   "outputs": [
    {
     "name": "stdout",
     "output_type": "stream",
     "text": [
      "The autoreload extension is already loaded. To reload it, use:\n",
      "  %reload_ext autoreload\n"
     ]
    }
   ],
   "source": [
    "%load_ext autoreload\n",
    "%autoreload 2\n",
    "\n",
    "%matplotlib inline"
   ]
  },
  {
   "cell_type": "code",
   "execution_count": 55,
   "metadata": {},
   "outputs": [],
   "source": [
    "import warnings\n",
    "warnings.filterwarnings(\"ignore\")"
   ]
  },
  {
   "cell_type": "code",
   "execution_count": 56,
   "metadata": {},
   "outputs": [],
   "source": [
    "import pandas as pd\n",
    "import matplotlib.pyplot as plt\n",
    "import numpy as np"
   ]
  },
  {
   "cell_type": "code",
   "execution_count": 57,
   "metadata": {},
   "outputs": [],
   "source": [
    "from sklearn.model_selection import train_test_split"
   ]
  },
  {
   "cell_type": "code",
   "execution_count": 58,
   "metadata": {},
   "outputs": [],
   "source": [
    "from src.utils import *\n",
    "from src.cleaning import *"
   ]
  },
  {
   "cell_type": "code",
   "execution_count": 59,
   "metadata": {},
   "outputs": [],
   "source": [
    "from sklearn.ensemble import RandomForestRegressor\n",
    "import xgboost \n",
    "import lightgbm as lgb\n",
    "from sklearn.linear_model import Ridge"
   ]
  },
  {
   "cell_type": "code",
   "execution_count": 60,
   "metadata": {},
   "outputs": [],
   "source": [
    "def print_score(m):\n",
    "    res = [\n",
    "        rmse(m.predict(X_train), y_train),\n",
    "        rmse(m.predict(X_test), y_test),\n",
    "        m.score(X_train, y_train),\n",
    "        m.score(X_test, y_test),\n",
    "    ]\n",
    "    if hasattr(m, \"oob_score_\"):\n",
    "        res.append(m.oob_score_)\n",
    "    print(res)"
   ]
  },
  {
   "cell_type": "code",
   "execution_count": 61,
   "metadata": {},
   "outputs": [],
   "source": [
    "from pylab import rcParams\n",
    "rcParams['figure.figsize'] = 15, 10"
   ]
  },
  {
   "cell_type": "markdown",
   "metadata": {},
   "source": [
    "#### READ DATA"
   ]
  },
  {
   "cell_type": "code",
   "execution_count": 141,
   "metadata": {},
   "outputs": [],
   "source": [
    "df_sample_submission = pd.read_csv('data/SampleSubmission.csv')\n",
    "df_variable_definitions = pd.read_csv('data/VariableDefinitions.csv')"
   ]
  },
  {
   "cell_type": "code",
   "execution_count": 142,
   "metadata": {},
   "outputs": [],
   "source": [
    "df_train = pd.read_feather('tmp/train')\n",
    "df_test  = pd.read_feather('tmp/test')"
   ]
  },
  {
   "cell_type": "code",
   "execution_count": 143,
   "metadata": {},
   "outputs": [
    {
     "data": {
      "text/html": [
       "<div>\n",
       "<style scoped>\n",
       "    .dataframe tbody tr th:only-of-type {\n",
       "        vertical-align: middle;\n",
       "    }\n",
       "\n",
       "    .dataframe tbody tr th {\n",
       "        vertical-align: top;\n",
       "    }\n",
       "\n",
       "    .dataframe thead th {\n",
       "        text-align: right;\n",
       "    }\n",
       "</style>\n",
       "<table border=\"1\" class=\"dataframe\">\n",
       "  <thead>\n",
       "    <tr style=\"text-align: right;\">\n",
       "      <th></th>\n",
       "      <th>index</th>\n",
       "      <th>Distance (KM)</th>\n",
       "      <th>Precipitation in millimeters</th>\n",
       "      <th>Temperature</th>\n",
       "      <th>Time from Pickup to Arrival</th>\n",
       "      <th>Age</th>\n",
       "      <th>Average_Rating</th>\n",
       "      <th>delay_in_pickup</th>\n",
       "      <th>unrated</th>\n",
       "      <th>dest_x</th>\n",
       "      <th>...</th>\n",
       "      <th>Pickup - Weekday (Mo = 1)_3</th>\n",
       "      <th>Pickup - Weekday (Mo = 1)_4</th>\n",
       "      <th>Pickup - Weekday (Mo = 1)_5</th>\n",
       "      <th>Pickup - Weekday (Mo = 1)_6</th>\n",
       "      <th>Pickup - Weekday (Mo = 1)_7</th>\n",
       "      <th>Vehicle Type_Bike</th>\n",
       "      <th>Platform Type_1</th>\n",
       "      <th>Platform Type_2</th>\n",
       "      <th>Platform Type_3</th>\n",
       "      <th>Platform Type_4</th>\n",
       "    </tr>\n",
       "  </thead>\n",
       "  <tbody>\n",
       "    <tr>\n",
       "      <td>0</td>\n",
       "      <td>0</td>\n",
       "      <td>4</td>\n",
       "      <td>0.0</td>\n",
       "      <td>20.400000</td>\n",
       "      <td>745.0</td>\n",
       "      <td>1309</td>\n",
       "      <td>13.8</td>\n",
       "      <td>1477.0</td>\n",
       "      <td>1088</td>\n",
       "      <td>0.172366</td>\n",
       "      <td>...</td>\n",
       "      <td>0</td>\n",
       "      <td>0</td>\n",
       "      <td>1</td>\n",
       "      <td>0</td>\n",
       "      <td>0</td>\n",
       "      <td>0</td>\n",
       "      <td>0</td>\n",
       "      <td>0</td>\n",
       "      <td>1</td>\n",
       "      <td>0</td>\n",
       "    </tr>\n",
       "    <tr>\n",
       "      <td>1</td>\n",
       "      <td>1</td>\n",
       "      <td>16</td>\n",
       "      <td>0.0</td>\n",
       "      <td>26.400000</td>\n",
       "      <td>1993.0</td>\n",
       "      <td>339</td>\n",
       "      <td>13.6</td>\n",
       "      <td>1021.0</td>\n",
       "      <td>327</td>\n",
       "      <td>0.172503</td>\n",
       "      <td>...</td>\n",
       "      <td>0</td>\n",
       "      <td>0</td>\n",
       "      <td>1</td>\n",
       "      <td>0</td>\n",
       "      <td>0</td>\n",
       "      <td>0</td>\n",
       "      <td>0</td>\n",
       "      <td>0</td>\n",
       "      <td>1</td>\n",
       "      <td>0</td>\n",
       "    </tr>\n",
       "    <tr>\n",
       "      <td>2</td>\n",
       "      <td>2</td>\n",
       "      <td>3</td>\n",
       "      <td>0.0</td>\n",
       "      <td>23.255689</td>\n",
       "      <td>455.0</td>\n",
       "      <td>242</td>\n",
       "      <td>12.5</td>\n",
       "      <td>410.0</td>\n",
       "      <td>909</td>\n",
       "      <td>0.171731</td>\n",
       "      <td>...</td>\n",
       "      <td>0</td>\n",
       "      <td>0</td>\n",
       "      <td>0</td>\n",
       "      <td>0</td>\n",
       "      <td>0</td>\n",
       "      <td>0</td>\n",
       "      <td>0</td>\n",
       "      <td>0</td>\n",
       "      <td>1</td>\n",
       "      <td>0</td>\n",
       "    </tr>\n",
       "    <tr>\n",
       "      <td>3</td>\n",
       "      <td>3</td>\n",
       "      <td>9</td>\n",
       "      <td>0.0</td>\n",
       "      <td>19.200000</td>\n",
       "      <td>1341.0</td>\n",
       "      <td>283</td>\n",
       "      <td>14.5</td>\n",
       "      <td>711.0</td>\n",
       "      <td>773</td>\n",
       "      <td>0.190806</td>\n",
       "      <td>...</td>\n",
       "      <td>0</td>\n",
       "      <td>0</td>\n",
       "      <td>1</td>\n",
       "      <td>0</td>\n",
       "      <td>0</td>\n",
       "      <td>0</td>\n",
       "      <td>0</td>\n",
       "      <td>0</td>\n",
       "      <td>1</td>\n",
       "      <td>0</td>\n",
       "    </tr>\n",
       "    <tr>\n",
       "      <td>4</td>\n",
       "      <td>4</td>\n",
       "      <td>9</td>\n",
       "      <td>0.0</td>\n",
       "      <td>15.400000</td>\n",
       "      <td>1214.0</td>\n",
       "      <td>872</td>\n",
       "      <td>14.1</td>\n",
       "      <td>455.0</td>\n",
       "      <td>1778</td>\n",
       "      <td>0.171522</td>\n",
       "      <td>...</td>\n",
       "      <td>0</td>\n",
       "      <td>0</td>\n",
       "      <td>0</td>\n",
       "      <td>0</td>\n",
       "      <td>0</td>\n",
       "      <td>0</td>\n",
       "      <td>1</td>\n",
       "      <td>0</td>\n",
       "      <td>0</td>\n",
       "      <td>0</td>\n",
       "    </tr>\n",
       "  </tbody>\n",
       "</table>\n",
       "<p>5 rows × 34 columns</p>\n",
       "</div>"
      ],
      "text/plain": [
       "   index  Distance (KM)  Precipitation in millimeters  Temperature  \\\n",
       "0      0              4                           0.0    20.400000   \n",
       "1      1             16                           0.0    26.400000   \n",
       "2      2              3                           0.0    23.255689   \n",
       "3      3              9                           0.0    19.200000   \n",
       "4      4              9                           0.0    15.400000   \n",
       "\n",
       "   Time from Pickup to Arrival   Age  Average_Rating  delay_in_pickup  \\\n",
       "0                        745.0  1309            13.8           1477.0   \n",
       "1                       1993.0   339            13.6           1021.0   \n",
       "2                        455.0   242            12.5            410.0   \n",
       "3                       1341.0   283            14.5            711.0   \n",
       "4                       1214.0   872            14.1            455.0   \n",
       "\n",
       "   unrated    dest_x  ...  Pickup - Weekday (Mo = 1)_3  \\\n",
       "0     1088  0.172366  ...                            0   \n",
       "1      327  0.172503  ...                            0   \n",
       "2      909  0.171731  ...                            0   \n",
       "3      773  0.190806  ...                            0   \n",
       "4     1778  0.171522  ...                            0   \n",
       "\n",
       "   Pickup - Weekday (Mo = 1)_4  Pickup - Weekday (Mo = 1)_5  \\\n",
       "0                            0                            1   \n",
       "1                            0                            1   \n",
       "2                            0                            0   \n",
       "3                            0                            1   \n",
       "4                            0                            0   \n",
       "\n",
       "   Pickup - Weekday (Mo = 1)_6  Pickup - Weekday (Mo = 1)_7  \\\n",
       "0                            0                            0   \n",
       "1                            0                            0   \n",
       "2                            0                            0   \n",
       "3                            0                            0   \n",
       "4                            0                            0   \n",
       "\n",
       "   Vehicle Type_Bike  Platform Type_1  Platform Type_2  Platform Type_3  \\\n",
       "0                  0                0                0                1   \n",
       "1                  0                0                0                1   \n",
       "2                  0                0                0                1   \n",
       "3                  0                0                0                1   \n",
       "4                  0                1                0                0   \n",
       "\n",
       "   Platform Type_4  \n",
       "0                0  \n",
       "1                0  \n",
       "2                0  \n",
       "3                0  \n",
       "4                0  \n",
       "\n",
       "[5 rows x 34 columns]"
      ]
     },
     "execution_count": 143,
     "metadata": {},
     "output_type": "execute_result"
    }
   ],
   "source": [
    "df_train.head()"
   ]
  },
  {
   "cell_type": "code",
   "execution_count": 144,
   "metadata": {},
   "outputs": [
    {
     "data": {
      "text/plain": [
       "(21201, 34)"
      ]
     },
     "execution_count": 144,
     "metadata": {},
     "output_type": "execute_result"
    }
   ],
   "source": [
    "df_train.shape"
   ]
  },
  {
   "cell_type": "code",
   "execution_count": 145,
   "metadata": {},
   "outputs": [
    {
     "data": {
      "text/plain": [
       "(7068, 34)"
      ]
     },
     "execution_count": 145,
     "metadata": {},
     "output_type": "execute_result"
    }
   ],
   "source": [
    "df_test.shape"
   ]
  },
  {
   "cell_type": "code",
   "execution_count": 146,
   "metadata": {},
   "outputs": [
    {
     "data": {
      "text/plain": [
       "Index(['index', 'Distance (KM)', 'Precipitation in millimeters', 'Temperature',\n",
       "       'Time from Pickup to Arrival', 'Age', 'Average_Rating',\n",
       "       'delay_in_pickup', 'unrated', 'dest_x', 'dest_y', 'dest_z', 'pick_x',\n",
       "       'pick_y', 'pick_z', 'Personal or Business_Business',\n",
       "       'Personal or Business_Personal', 'Pickup - Day of Month_beg_month',\n",
       "       'Pickup - Day of Month_endmonth', 'Pickup - Day of Month_midmonth',\n",
       "       'Pickup - Time_normal', 'Pickup - Time_rush',\n",
       "       'Pickup - Weekday (Mo = 1)_1', 'Pickup - Weekday (Mo = 1)_2',\n",
       "       'Pickup - Weekday (Mo = 1)_3', 'Pickup - Weekday (Mo = 1)_4',\n",
       "       'Pickup - Weekday (Mo = 1)_5', 'Pickup - Weekday (Mo = 1)_6',\n",
       "       'Pickup - Weekday (Mo = 1)_7', 'Vehicle Type_Bike', 'Platform Type_1',\n",
       "       'Platform Type_2', 'Platform Type_3', 'Platform Type_4'],\n",
       "      dtype='object')"
      ]
     },
     "execution_count": 146,
     "metadata": {},
     "output_type": "execute_result"
    }
   ],
   "source": [
    "df_train.columns"
   ]
  },
  {
   "cell_type": "code",
   "execution_count": 147,
   "metadata": {},
   "outputs": [],
   "source": [
    "df = df_train.drop(['index'],axis=1)"
   ]
  },
  {
   "cell_type": "markdown",
   "metadata": {},
   "source": [
    "#### Train test split"
   ]
  },
  {
   "cell_type": "code",
   "execution_count": 148,
   "metadata": {},
   "outputs": [],
   "source": [
    "X_train, X_test, y_train, y_test = train_test_split(\n",
    "    df_train.drop([\"Time from Pickup to Arrival\"],axis=1), df_train['Time from Pickup to Arrival'], test_size=0.33, random_state=42)"
   ]
  },
  {
   "cell_type": "code",
   "execution_count": 149,
   "metadata": {},
   "outputs": [],
   "source": [
    "X_train = X_train.drop('index',axis=1)\n",
    "X_test = X_test.drop('index',axis=1)"
   ]
  },
  {
   "cell_type": "code",
   "execution_count": 150,
   "metadata": {},
   "outputs": [
    {
     "data": {
      "text/html": [
       "<div>\n",
       "<style scoped>\n",
       "    .dataframe tbody tr th:only-of-type {\n",
       "        vertical-align: middle;\n",
       "    }\n",
       "\n",
       "    .dataframe tbody tr th {\n",
       "        vertical-align: top;\n",
       "    }\n",
       "\n",
       "    .dataframe thead th {\n",
       "        text-align: right;\n",
       "    }\n",
       "</style>\n",
       "<table border=\"1\" class=\"dataframe\">\n",
       "  <thead>\n",
       "    <tr style=\"text-align: right;\">\n",
       "      <th></th>\n",
       "      <th>Distance (KM)</th>\n",
       "      <th>Precipitation in millimeters</th>\n",
       "      <th>Temperature</th>\n",
       "      <th>Age</th>\n",
       "      <th>Average_Rating</th>\n",
       "      <th>delay_in_pickup</th>\n",
       "      <th>unrated</th>\n",
       "      <th>dest_x</th>\n",
       "      <th>dest_y</th>\n",
       "      <th>dest_z</th>\n",
       "      <th>...</th>\n",
       "      <th>Pickup - Weekday (Mo = 1)_3</th>\n",
       "      <th>Pickup - Weekday (Mo = 1)_4</th>\n",
       "      <th>Pickup - Weekday (Mo = 1)_5</th>\n",
       "      <th>Pickup - Weekday (Mo = 1)_6</th>\n",
       "      <th>Pickup - Weekday (Mo = 1)_7</th>\n",
       "      <th>Vehicle Type_Bike</th>\n",
       "      <th>Platform Type_1</th>\n",
       "      <th>Platform Type_2</th>\n",
       "      <th>Platform Type_3</th>\n",
       "      <th>Platform Type_4</th>\n",
       "    </tr>\n",
       "  </thead>\n",
       "  <tbody>\n",
       "    <tr>\n",
       "      <td>6224</td>\n",
       "      <td>13</td>\n",
       "      <td>0.0</td>\n",
       "      <td>23.255689</td>\n",
       "      <td>1075</td>\n",
       "      <td>13.8</td>\n",
       "      <td>749.0</td>\n",
       "      <td>1494</td>\n",
       "      <td>0.159604</td>\n",
       "      <td>-0.189005</td>\n",
       "      <td>-0.968919</td>\n",
       "      <td>...</td>\n",
       "      <td>0</td>\n",
       "      <td>0</td>\n",
       "      <td>0</td>\n",
       "      <td>0</td>\n",
       "      <td>0</td>\n",
       "      <td>0</td>\n",
       "      <td>0</td>\n",
       "      <td>0</td>\n",
       "      <td>1</td>\n",
       "      <td>0</td>\n",
       "    </tr>\n",
       "    <tr>\n",
       "      <td>16205</td>\n",
       "      <td>13</td>\n",
       "      <td>0.0</td>\n",
       "      <td>19.100000</td>\n",
       "      <td>875</td>\n",
       "      <td>13.8</td>\n",
       "      <td>679.0</td>\n",
       "      <td>209</td>\n",
       "      <td>0.161495</td>\n",
       "      <td>-0.219563</td>\n",
       "      <td>-0.962139</td>\n",
       "      <td>...</td>\n",
       "      <td>0</td>\n",
       "      <td>0</td>\n",
       "      <td>1</td>\n",
       "      <td>0</td>\n",
       "      <td>0</td>\n",
       "      <td>0</td>\n",
       "      <td>1</td>\n",
       "      <td>0</td>\n",
       "      <td>0</td>\n",
       "      <td>0</td>\n",
       "    </tr>\n",
       "    <tr>\n",
       "      <td>17099</td>\n",
       "      <td>11</td>\n",
       "      <td>0.0</td>\n",
       "      <td>26.600000</td>\n",
       "      <td>1909</td>\n",
       "      <td>13.3</td>\n",
       "      <td>5.0</td>\n",
       "      <td>6850</td>\n",
       "      <td>0.186389</td>\n",
       "      <td>-0.237848</td>\n",
       "      <td>-0.953251</td>\n",
       "      <td>...</td>\n",
       "      <td>0</td>\n",
       "      <td>0</td>\n",
       "      <td>0</td>\n",
       "      <td>0</td>\n",
       "      <td>0</td>\n",
       "      <td>0</td>\n",
       "      <td>0</td>\n",
       "      <td>0</td>\n",
       "      <td>1</td>\n",
       "      <td>0</td>\n",
       "    </tr>\n",
       "    <tr>\n",
       "      <td>9892</td>\n",
       "      <td>21</td>\n",
       "      <td>0.0</td>\n",
       "      <td>25.200000</td>\n",
       "      <td>356</td>\n",
       "      <td>14.2</td>\n",
       "      <td>1134.0</td>\n",
       "      <td>795</td>\n",
       "      <td>0.158321</td>\n",
       "      <td>-0.214179</td>\n",
       "      <td>-0.963879</td>\n",
       "      <td>...</td>\n",
       "      <td>0</td>\n",
       "      <td>0</td>\n",
       "      <td>0</td>\n",
       "      <td>0</td>\n",
       "      <td>0</td>\n",
       "      <td>0</td>\n",
       "      <td>0</td>\n",
       "      <td>0</td>\n",
       "      <td>1</td>\n",
       "      <td>0</td>\n",
       "    </tr>\n",
       "    <tr>\n",
       "      <td>8487</td>\n",
       "      <td>11</td>\n",
       "      <td>0.0</td>\n",
       "      <td>22.400000</td>\n",
       "      <td>1236</td>\n",
       "      <td>14.2</td>\n",
       "      <td>5.0</td>\n",
       "      <td>1580</td>\n",
       "      <td>0.190422</td>\n",
       "      <td>-0.196657</td>\n",
       "      <td>-0.961803</td>\n",
       "      <td>...</td>\n",
       "      <td>0</td>\n",
       "      <td>0</td>\n",
       "      <td>1</td>\n",
       "      <td>0</td>\n",
       "      <td>0</td>\n",
       "      <td>0</td>\n",
       "      <td>0</td>\n",
       "      <td>0</td>\n",
       "      <td>1</td>\n",
       "      <td>0</td>\n",
       "    </tr>\n",
       "    <tr>\n",
       "      <td>...</td>\n",
       "      <td>...</td>\n",
       "      <td>...</td>\n",
       "      <td>...</td>\n",
       "      <td>...</td>\n",
       "      <td>...</td>\n",
       "      <td>...</td>\n",
       "      <td>...</td>\n",
       "      <td>...</td>\n",
       "      <td>...</td>\n",
       "      <td>...</td>\n",
       "      <td>...</td>\n",
       "      <td>...</td>\n",
       "      <td>...</td>\n",
       "      <td>...</td>\n",
       "      <td>...</td>\n",
       "      <td>...</td>\n",
       "      <td>...</td>\n",
       "      <td>...</td>\n",
       "      <td>...</td>\n",
       "      <td>...</td>\n",
       "      <td>...</td>\n",
       "    </tr>\n",
       "    <tr>\n",
       "      <td>20805</td>\n",
       "      <td>5</td>\n",
       "      <td>0.0</td>\n",
       "      <td>23.255689</td>\n",
       "      <td>2715</td>\n",
       "      <td>13.7</td>\n",
       "      <td>833.0</td>\n",
       "      <td>6902</td>\n",
       "      <td>0.172115</td>\n",
       "      <td>-0.202672</td>\n",
       "      <td>-0.964002</td>\n",
       "      <td>...</td>\n",
       "      <td>0</td>\n",
       "      <td>1</td>\n",
       "      <td>0</td>\n",
       "      <td>0</td>\n",
       "      <td>0</td>\n",
       "      <td>0</td>\n",
       "      <td>0</td>\n",
       "      <td>0</td>\n",
       "      <td>1</td>\n",
       "      <td>0</td>\n",
       "    </tr>\n",
       "    <tr>\n",
       "      <td>914</td>\n",
       "      <td>1</td>\n",
       "      <td>0.0</td>\n",
       "      <td>23.900000</td>\n",
       "      <td>1509</td>\n",
       "      <td>13.3</td>\n",
       "      <td>126.0</td>\n",
       "      <td>2185</td>\n",
       "      <td>0.192042</td>\n",
       "      <td>-0.238302</td>\n",
       "      <td>-0.952015</td>\n",
       "      <td>...</td>\n",
       "      <td>0</td>\n",
       "      <td>0</td>\n",
       "      <td>0</td>\n",
       "      <td>0</td>\n",
       "      <td>0</td>\n",
       "      <td>0</td>\n",
       "      <td>0</td>\n",
       "      <td>0</td>\n",
       "      <td>1</td>\n",
       "      <td>0</td>\n",
       "    </tr>\n",
       "    <tr>\n",
       "      <td>8180</td>\n",
       "      <td>4</td>\n",
       "      <td>83.0</td>\n",
       "      <td>15.800000</td>\n",
       "      <td>1111</td>\n",
       "      <td>14.1</td>\n",
       "      <td>993.0</td>\n",
       "      <td>1177</td>\n",
       "      <td>0.172366</td>\n",
       "      <td>-0.204050</td>\n",
       "      <td>-0.963667</td>\n",
       "      <td>...</td>\n",
       "      <td>0</td>\n",
       "      <td>0</td>\n",
       "      <td>0</td>\n",
       "      <td>0</td>\n",
       "      <td>0</td>\n",
       "      <td>0</td>\n",
       "      <td>0</td>\n",
       "      <td>0</td>\n",
       "      <td>1</td>\n",
       "      <td>0</td>\n",
       "    </tr>\n",
       "    <tr>\n",
       "      <td>16826</td>\n",
       "      <td>8</td>\n",
       "      <td>0.0</td>\n",
       "      <td>24.800000</td>\n",
       "      <td>1069</td>\n",
       "      <td>13.8</td>\n",
       "      <td>10.0</td>\n",
       "      <td>592</td>\n",
       "      <td>0.169598</td>\n",
       "      <td>-0.222279</td>\n",
       "      <td>-0.960119</td>\n",
       "      <td>...</td>\n",
       "      <td>1</td>\n",
       "      <td>0</td>\n",
       "      <td>0</td>\n",
       "      <td>0</td>\n",
       "      <td>0</td>\n",
       "      <td>0</td>\n",
       "      <td>0</td>\n",
       "      <td>0</td>\n",
       "      <td>1</td>\n",
       "      <td>0</td>\n",
       "    </tr>\n",
       "    <tr>\n",
       "      <td>18726</td>\n",
       "      <td>10</td>\n",
       "      <td>0.0</td>\n",
       "      <td>18.600000</td>\n",
       "      <td>645</td>\n",
       "      <td>13.5</td>\n",
       "      <td>54.0</td>\n",
       "      <td>452</td>\n",
       "      <td>0.190074</td>\n",
       "      <td>-0.242699</td>\n",
       "      <td>-0.951299</td>\n",
       "      <td>...</td>\n",
       "      <td>0</td>\n",
       "      <td>1</td>\n",
       "      <td>0</td>\n",
       "      <td>0</td>\n",
       "      <td>0</td>\n",
       "      <td>0</td>\n",
       "      <td>0</td>\n",
       "      <td>0</td>\n",
       "      <td>1</td>\n",
       "      <td>0</td>\n",
       "    </tr>\n",
       "  </tbody>\n",
       "</table>\n",
       "<p>6997 rows × 32 columns</p>\n",
       "</div>"
      ],
      "text/plain": [
       "       Distance (KM)  Precipitation in millimeters  Temperature   Age  \\\n",
       "6224              13                           0.0    23.255689  1075   \n",
       "16205             13                           0.0    19.100000   875   \n",
       "17099             11                           0.0    26.600000  1909   \n",
       "9892              21                           0.0    25.200000   356   \n",
       "8487              11                           0.0    22.400000  1236   \n",
       "...              ...                           ...          ...   ...   \n",
       "20805              5                           0.0    23.255689  2715   \n",
       "914                1                           0.0    23.900000  1509   \n",
       "8180               4                          83.0    15.800000  1111   \n",
       "16826              8                           0.0    24.800000  1069   \n",
       "18726             10                           0.0    18.600000   645   \n",
       "\n",
       "       Average_Rating  delay_in_pickup  unrated    dest_x    dest_y    dest_z  \\\n",
       "6224             13.8            749.0     1494  0.159604 -0.189005 -0.968919   \n",
       "16205            13.8            679.0      209  0.161495 -0.219563 -0.962139   \n",
       "17099            13.3              5.0     6850  0.186389 -0.237848 -0.953251   \n",
       "9892             14.2           1134.0      795  0.158321 -0.214179 -0.963879   \n",
       "8487             14.2              5.0     1580  0.190422 -0.196657 -0.961803   \n",
       "...               ...              ...      ...       ...       ...       ...   \n",
       "20805            13.7            833.0     6902  0.172115 -0.202672 -0.964002   \n",
       "914              13.3            126.0     2185  0.192042 -0.238302 -0.952015   \n",
       "8180             14.1            993.0     1177  0.172366 -0.204050 -0.963667   \n",
       "16826            13.8             10.0      592  0.169598 -0.222279 -0.960119   \n",
       "18726            13.5             54.0      452  0.190074 -0.242699 -0.951299   \n",
       "\n",
       "       ...  Pickup - Weekday (Mo = 1)_3  Pickup - Weekday (Mo = 1)_4  \\\n",
       "6224   ...                            0                            0   \n",
       "16205  ...                            0                            0   \n",
       "17099  ...                            0                            0   \n",
       "9892   ...                            0                            0   \n",
       "8487   ...                            0                            0   \n",
       "...    ...                          ...                          ...   \n",
       "20805  ...                            0                            1   \n",
       "914    ...                            0                            0   \n",
       "8180   ...                            0                            0   \n",
       "16826  ...                            1                            0   \n",
       "18726  ...                            0                            1   \n",
       "\n",
       "       Pickup - Weekday (Mo = 1)_5  Pickup - Weekday (Mo = 1)_6  \\\n",
       "6224                             0                            0   \n",
       "16205                            1                            0   \n",
       "17099                            0                            0   \n",
       "9892                             0                            0   \n",
       "8487                             1                            0   \n",
       "...                            ...                          ...   \n",
       "20805                            0                            0   \n",
       "914                              0                            0   \n",
       "8180                             0                            0   \n",
       "16826                            0                            0   \n",
       "18726                            0                            0   \n",
       "\n",
       "       Pickup - Weekday (Mo = 1)_7  Vehicle Type_Bike  Platform Type_1  \\\n",
       "6224                             0                  0                0   \n",
       "16205                            0                  0                1   \n",
       "17099                            0                  0                0   \n",
       "9892                             0                  0                0   \n",
       "8487                             0                  0                0   \n",
       "...                            ...                ...              ...   \n",
       "20805                            0                  0                0   \n",
       "914                              0                  0                0   \n",
       "8180                             0                  0                0   \n",
       "16826                            0                  0                0   \n",
       "18726                            0                  0                0   \n",
       "\n",
       "       Platform Type_2  Platform Type_3  Platform Type_4  \n",
       "6224                 0                1                0  \n",
       "16205                0                0                0  \n",
       "17099                0                1                0  \n",
       "9892                 0                1                0  \n",
       "8487                 0                1                0  \n",
       "...                ...              ...              ...  \n",
       "20805                0                1                0  \n",
       "914                  0                1                0  \n",
       "8180                 0                1                0  \n",
       "16826                0                1                0  \n",
       "18726                0                1                0  \n",
       "\n",
       "[6997 rows x 32 columns]"
      ]
     },
     "execution_count": 150,
     "metadata": {},
     "output_type": "execute_result"
    }
   ],
   "source": [
    "X_test"
   ]
  },
  {
   "cell_type": "code",
   "execution_count": 151,
   "metadata": {},
   "outputs": [],
   "source": [
    "df_test = df_test.drop(['index','Time from Pickup to Arrival'],axis=1)"
   ]
  },
  {
   "cell_type": "markdown",
   "metadata": {},
   "source": [
    "#### RandomForests"
   ]
  },
  {
   "cell_type": "code",
   "execution_count": 102,
   "metadata": {},
   "outputs": [
    {
     "name": "stdout",
     "output_type": "stream",
     "text": [
      "[456.73026533318216, 768.7739695373234, 0.7847651924239729, 0.4004321524395702, 0.3855042602695665]\n"
     ]
    }
   ],
   "source": [
    "m = RandomForestRegressor(n_estimators=40, min_samples_leaf=3, max_features=0.5, n_jobs=-1, oob_score=True)\n",
    "m.fit(X_train, y_train)\n",
    "print_score(m)"
   ]
  },
  {
   "cell_type": "code",
   "execution_count": 103,
   "metadata": {},
   "outputs": [
    {
     "data": {
      "text/html": [
       "<div>\n",
       "<style scoped>\n",
       "    .dataframe tbody tr th:only-of-type {\n",
       "        vertical-align: middle;\n",
       "    }\n",
       "\n",
       "    .dataframe tbody tr th {\n",
       "        vertical-align: top;\n",
       "    }\n",
       "\n",
       "    .dataframe thead th {\n",
       "        text-align: right;\n",
       "    }\n",
       "</style>\n",
       "<table border=\"1\" class=\"dataframe\">\n",
       "  <thead>\n",
       "    <tr style=\"text-align: right;\">\n",
       "      <th></th>\n",
       "      <th>Time from Pickup to Arrival</th>\n",
       "    </tr>\n",
       "    <tr>\n",
       "      <th>Order_No</th>\n",
       "      <th></th>\n",
       "    </tr>\n",
       "  </thead>\n",
       "  <tbody>\n",
       "    <tr>\n",
       "      <td>Order_No_19248</td>\n",
       "      <td>1313.219861</td>\n",
       "    </tr>\n",
       "    <tr>\n",
       "      <td>Order_No_12736</td>\n",
       "      <td>1375.543395</td>\n",
       "    </tr>\n",
       "    <tr>\n",
       "      <td>Order_No_768</td>\n",
       "      <td>1386.767569</td>\n",
       "    </tr>\n",
       "    <tr>\n",
       "      <td>Order_No_15332</td>\n",
       "      <td>1154.561756</td>\n",
       "    </tr>\n",
       "    <tr>\n",
       "      <td>Order_No_21373</td>\n",
       "      <td>1044.087697</td>\n",
       "    </tr>\n",
       "    <tr>\n",
       "      <td>...</td>\n",
       "      <td>...</td>\n",
       "    </tr>\n",
       "    <tr>\n",
       "      <td>Order_No_3612</td>\n",
       "      <td>1827.708770</td>\n",
       "    </tr>\n",
       "    <tr>\n",
       "      <td>Order_No_7657</td>\n",
       "      <td>3113.931165</td>\n",
       "    </tr>\n",
       "    <tr>\n",
       "      <td>Order_No_1969</td>\n",
       "      <td>1582.808532</td>\n",
       "    </tr>\n",
       "    <tr>\n",
       "      <td>Order_No_10591</td>\n",
       "      <td>2491.718405</td>\n",
       "    </tr>\n",
       "    <tr>\n",
       "      <td>Order_No_1603</td>\n",
       "      <td>1887.056861</td>\n",
       "    </tr>\n",
       "  </tbody>\n",
       "</table>\n",
       "<p>7068 rows × 1 columns</p>\n",
       "</div>"
      ],
      "text/plain": [
       "                Time from Pickup to Arrival\n",
       "Order_No                                   \n",
       "Order_No_19248                  1313.219861\n",
       "Order_No_12736                  1375.543395\n",
       "Order_No_768                    1386.767569\n",
       "Order_No_15332                  1154.561756\n",
       "Order_No_21373                  1044.087697\n",
       "...                                     ...\n",
       "Order_No_3612                   1827.708770\n",
       "Order_No_7657                   3113.931165\n",
       "Order_No_1969                   1582.808532\n",
       "Order_No_10591                  2491.718405\n",
       "Order_No_1603                   1887.056861\n",
       "\n",
       "[7068 rows x 1 columns]"
      ]
     },
     "execution_count": 103,
     "metadata": {},
     "output_type": "execute_result"
    }
   ],
   "source": [
    "create_submission(df_sample=df_sample_submission, df_test=df_test, model=m, name='rf-01')"
   ]
  },
  {
   "cell_type": "code",
   "execution_count": 104,
   "metadata": {},
   "outputs": [],
   "source": [
    "fi = rf_feat_importance(m,X_train)"
   ]
  },
  {
   "cell_type": "code",
   "execution_count": 105,
   "metadata": {},
   "outputs": [
    {
     "data": {
      "text/plain": [
       "<matplotlib.axes._subplots.AxesSubplot at 0x11fbd25c0>"
      ]
     },
     "execution_count": 105,
     "metadata": {},
     "output_type": "execute_result"
    },
    {
     "data": {
      "image/png": "[encoded data removed]",
      "text/plain": [
       "<Figure size 864x504 with 1 Axes>"
      ]
     },
     "metadata": {
      "needs_background": "light"
     },
     "output_type": "display_data"
    }
   ],
   "source": [
    "plot_fi(fi)"
   ]
  },
  {
   "cell_type": "markdown",
   "metadata": {},
   "source": [
    "#### XGBOOST"
   ]
  },
  {
   "cell_type": "code",
   "execution_count": 106,
   "metadata": {},
   "outputs": [],
   "source": [
    "xgb = xgboost.XGBRegressor(n_estimators=40, learning_rate=0.09, gamma=0, subsample=0.8,\n",
    "                           colsample_bytree=1, max_depth=7)"
   ]
  },
  {
   "cell_type": "code",
   "execution_count": 107,
   "metadata": {},
   "outputs": [
    {
     "name": "stdout",
     "output_type": "stream",
     "text": [
      "[10:15:50] WARNING: /usr/local/miniconda/conda-bld/xgboost_1572315027083/work/src/objective/regression_obj.cu:152: reg:linear is now deprecated in favor of reg:squarederror.\n",
      "[656.7662422948462, 768.3557215009193, 0.5549440945987852, 0.40108435938268167]\n"
     ]
    }
   ],
   "source": [
    "xgb.fit(X_train,y_train)\n",
    "print_score(xgb)"
   ]
  },
  {
   "cell_type": "code",
   "execution_count": 108,
   "metadata": {},
   "outputs": [
    {
     "data": {
      "text/html": [
       "<div>\n",
       "<style scoped>\n",
       "    .dataframe tbody tr th:only-of-type {\n",
       "        vertical-align: middle;\n",
       "    }\n",
       "\n",
       "    .dataframe tbody tr th {\n",
       "        vertical-align: top;\n",
       "    }\n",
       "\n",
       "    .dataframe thead th {\n",
       "        text-align: right;\n",
       "    }\n",
       "</style>\n",
       "<table border=\"1\" class=\"dataframe\">\n",
       "  <thead>\n",
       "    <tr style=\"text-align: right;\">\n",
       "      <th></th>\n",
       "      <th>Time from Pickup to Arrival</th>\n",
       "    </tr>\n",
       "    <tr>\n",
       "      <th>Order_No</th>\n",
       "      <th></th>\n",
       "    </tr>\n",
       "  </thead>\n",
       "  <tbody>\n",
       "    <tr>\n",
       "      <td>Order_No_19248</td>\n",
       "      <td>1514.768311</td>\n",
       "    </tr>\n",
       "    <tr>\n",
       "      <td>Order_No_12736</td>\n",
       "      <td>1179.573608</td>\n",
       "    </tr>\n",
       "    <tr>\n",
       "      <td>Order_No_768</td>\n",
       "      <td>1425.643311</td>\n",
       "    </tr>\n",
       "    <tr>\n",
       "      <td>Order_No_15332</td>\n",
       "      <td>1175.053589</td>\n",
       "    </tr>\n",
       "    <tr>\n",
       "      <td>Order_No_21373</td>\n",
       "      <td>1156.525391</td>\n",
       "    </tr>\n",
       "    <tr>\n",
       "      <td>...</td>\n",
       "      <td>...</td>\n",
       "    </tr>\n",
       "    <tr>\n",
       "      <td>Order_No_3612</td>\n",
       "      <td>1413.312744</td>\n",
       "    </tr>\n",
       "    <tr>\n",
       "      <td>Order_No_7657</td>\n",
       "      <td>2782.339111</td>\n",
       "    </tr>\n",
       "    <tr>\n",
       "      <td>Order_No_1969</td>\n",
       "      <td>1626.793091</td>\n",
       "    </tr>\n",
       "    <tr>\n",
       "      <td>Order_No_10591</td>\n",
       "      <td>2437.244873</td>\n",
       "    </tr>\n",
       "    <tr>\n",
       "      <td>Order_No_1603</td>\n",
       "      <td>1588.471924</td>\n",
       "    </tr>\n",
       "  </tbody>\n",
       "</table>\n",
       "<p>7068 rows × 1 columns</p>\n",
       "</div>"
      ],
      "text/plain": [
       "                Time from Pickup to Arrival\n",
       "Order_No                                   \n",
       "Order_No_19248                  1514.768311\n",
       "Order_No_12736                  1179.573608\n",
       "Order_No_768                    1425.643311\n",
       "Order_No_15332                  1175.053589\n",
       "Order_No_21373                  1156.525391\n",
       "...                                     ...\n",
       "Order_No_3612                   1413.312744\n",
       "Order_No_7657                   2782.339111\n",
       "Order_No_1969                   1626.793091\n",
       "Order_No_10591                  2437.244873\n",
       "Order_No_1603                   1588.471924\n",
       "\n",
       "[7068 rows x 1 columns]"
      ]
     },
     "execution_count": 108,
     "metadata": {},
     "output_type": "execute_result"
    }
   ],
   "source": [
    "create_submission(df_sample=df_sample_submission, df_test=df_test, model=xgb, name='xgb-02')"
   ]
  },
  {
   "cell_type": "markdown",
   "metadata": {},
   "source": [
    "#### Ridge"
   ]
  },
  {
   "cell_type": "code",
   "execution_count": 109,
   "metadata": {},
   "outputs": [],
   "source": [
    "ridge = Ridge(alpha=0.01, normalize = True, random_state=42)"
   ]
  },
  {
   "cell_type": "code",
   "execution_count": 110,
   "metadata": {},
   "outputs": [],
   "source": [
    "ridge.fit(X_train, y_train)\n",
    "y = ridge.predict(df_test)"
   ]
  },
  {
   "cell_type": "code",
   "execution_count": 111,
   "metadata": {},
   "outputs": [
    {
     "name": "stdout",
     "output_type": "stream",
     "text": [
      "[784.2461990955586, 792.2218804638014, 0.3654033588624997, 0.3633002757303383]\n"
     ]
    }
   ],
   "source": [
    "print_score(ridge)"
   ]
  },
  {
   "cell_type": "code",
   "execution_count": 112,
   "metadata": {},
   "outputs": [
    {
     "data": {
      "text/html": [
       "<div>\n",
       "<style scoped>\n",
       "    .dataframe tbody tr th:only-of-type {\n",
       "        vertical-align: middle;\n",
       "    }\n",
       "\n",
       "    .dataframe tbody tr th {\n",
       "        vertical-align: top;\n",
       "    }\n",
       "\n",
       "    .dataframe thead th {\n",
       "        text-align: right;\n",
       "    }\n",
       "</style>\n",
       "<table border=\"1\" class=\"dataframe\">\n",
       "  <thead>\n",
       "    <tr style=\"text-align: right;\">\n",
       "      <th></th>\n",
       "      <th>Time from Pickup to Arrival</th>\n",
       "    </tr>\n",
       "    <tr>\n",
       "      <th>Order_No</th>\n",
       "      <th></th>\n",
       "    </tr>\n",
       "  </thead>\n",
       "  <tbody>\n",
       "    <tr>\n",
       "      <td>Order_No_19248</td>\n",
       "      <td>1357.923077</td>\n",
       "    </tr>\n",
       "    <tr>\n",
       "      <td>Order_No_12736</td>\n",
       "      <td>1274.254259</td>\n",
       "    </tr>\n",
       "    <tr>\n",
       "      <td>Order_No_768</td>\n",
       "      <td>1087.892390</td>\n",
       "    </tr>\n",
       "    <tr>\n",
       "      <td>Order_No_15332</td>\n",
       "      <td>1057.325841</td>\n",
       "    </tr>\n",
       "    <tr>\n",
       "      <td>Order_No_21373</td>\n",
       "      <td>1108.003877</td>\n",
       "    </tr>\n",
       "    <tr>\n",
       "      <td>...</td>\n",
       "      <td>...</td>\n",
       "    </tr>\n",
       "    <tr>\n",
       "      <td>Order_No_3612</td>\n",
       "      <td>1015.984134</td>\n",
       "    </tr>\n",
       "    <tr>\n",
       "      <td>Order_No_7657</td>\n",
       "      <td>2861.196397</td>\n",
       "    </tr>\n",
       "    <tr>\n",
       "      <td>Order_No_1969</td>\n",
       "      <td>1751.591185</td>\n",
       "    </tr>\n",
       "    <tr>\n",
       "      <td>Order_No_10591</td>\n",
       "      <td>2826.774572</td>\n",
       "    </tr>\n",
       "    <tr>\n",
       "      <td>Order_No_1603</td>\n",
       "      <td>1537.051473</td>\n",
       "    </tr>\n",
       "  </tbody>\n",
       "</table>\n",
       "<p>7068 rows × 1 columns</p>\n",
       "</div>"
      ],
      "text/plain": [
       "                Time from Pickup to Arrival\n",
       "Order_No                                   \n",
       "Order_No_19248                  1357.923077\n",
       "Order_No_12736                  1274.254259\n",
       "Order_No_768                    1087.892390\n",
       "Order_No_15332                  1057.325841\n",
       "Order_No_21373                  1108.003877\n",
       "...                                     ...\n",
       "Order_No_3612                   1015.984134\n",
       "Order_No_7657                   2861.196397\n",
       "Order_No_1969                   1751.591185\n",
       "Order_No_10591                  2826.774572\n",
       "Order_No_1603                   1537.051473\n",
       "\n",
       "[7068 rows x 1 columns]"
      ]
     },
     "execution_count": 112,
     "metadata": {},
     "output_type": "execute_result"
    }
   ],
   "source": [
    "create_submission(df_sample=df_sample_submission, df_test=df_test, model=ridge, name='ridge-01')"
   ]
  },
  {
   "cell_type": "markdown",
   "metadata": {},
   "source": [
    "#### Light GBM"
   ]
  },
  {
   "cell_type": "code",
   "execution_count": 152,
   "metadata": {},
   "outputs": [],
   "source": [
    "import lightgbm as lgb"
   ]
  },
  {
   "cell_type": "code",
   "execution_count": 153,
   "metadata": {},
   "outputs": [],
   "source": [
    "params = {\n",
    "    'boosting_type': 'gbdt',\n",
    "    'objective': 'regression',\n",
    "    'metric': {'l2', 'l1'},\n",
    "    'num_leaves': 31,\n",
    "    'learning_rate': 0.05,\n",
    "    'feature_fraction': 0.9,\n",
    "    'bagging_fraction': 0.8,\n",
    "    'bagging_freq': 5,\n",
    "    'verbose': 0\n",
    "}\n"
   ]
  },
  {
   "cell_type": "code",
   "execution_count": 154,
   "metadata": {},
   "outputs": [],
   "source": [
    "d_train = lgb.Dataset(X_train, label=y_train)\n",
    "d_valid = lgb.Dataset(X_test, label=y_test)"
   ]
  },
  {
   "cell_type": "code",
   "execution_count": 155,
   "metadata": {},
   "outputs": [
    {
     "name": "stdout",
     "output_type": "stream",
     "text": [
      "[1]\tvalid_0's l1: 735.926\tvalid_0's l2: 950258\n",
      "Training until validation scores don't improve for 6 rounds.\n",
      "[2]\tvalid_0's l1: 720.339\tvalid_0's l2: 918237\n",
      "[3]\tvalid_0's l1: 705.915\tvalid_0's l2: 889459\n",
      "[4]\tvalid_0's l1: 692.59\tvalid_0's l2: 863283\n",
      "[5]\tvalid_0's l1: 685.152\tvalid_0's l2: 848114\n",
      "[6]\tvalid_0's l1: 673.309\tvalid_0's l2: 825855\n",
      "[7]\tvalid_0's l1: 662.439\tvalid_0's l2: 805799\n",
      "[8]\tvalid_0's l1: 652.222\tvalid_0's l2: 787668\n",
      "[9]\tvalid_0's l1: 642.5\tvalid_0's l2: 770781\n",
      "[10]\tvalid_0's l1: 637.298\tvalid_0's l2: 761277\n",
      "[11]\tvalid_0's l1: 628.867\tvalid_0's l2: 746782\n",
      "[12]\tvalid_0's l1: 624.115\tvalid_0's l2: 738453\n",
      "[13]\tvalid_0's l1: 616.782\tvalid_0's l2: 725975\n",
      "[14]\tvalid_0's l1: 610.025\tvalid_0's l2: 714487\n",
      "[15]\tvalid_0's l1: 603.901\tvalid_0's l2: 704199\n",
      "[16]\tvalid_0's l1: 598.147\tvalid_0's l2: 694718\n",
      "[17]\tvalid_0's l1: 592.855\tvalid_0's l2: 686217\n",
      "[18]\tvalid_0's l1: 588.112\tvalid_0's l2: 678698\n",
      "[19]\tvalid_0's l1: 583.529\tvalid_0's l2: 671491\n",
      "[20]\tvalid_0's l1: 579.484\tvalid_0's l2: 665241\n",
      "[21]\tvalid_0's l1: 575.497\tvalid_0's l2: 659178\n",
      "[22]\tvalid_0's l1: 571.761\tvalid_0's l2: 653444\n",
      "[23]\tvalid_0's l1: 569.536\tvalid_0's l2: 650072\n",
      "[24]\tvalid_0's l1: 566.26\tvalid_0's l2: 645395\n",
      "[25]\tvalid_0's l1: 564.448\tvalid_0's l2: 642478\n",
      "[26]\tvalid_0's l1: 561.463\tvalid_0's l2: 638220\n",
      "[27]\tvalid_0's l1: 559.953\tvalid_0's l2: 636132\n",
      "[28]\tvalid_0's l1: 558.853\tvalid_0's l2: 634453\n",
      "[29]\tvalid_0's l1: 556.441\tvalid_0's l2: 631222\n",
      "[30]\tvalid_0's l1: 554.197\tvalid_0's l2: 628109\n",
      "[31]\tvalid_0's l1: 551.956\tvalid_0's l2: 625021\n",
      "[32]\tvalid_0's l1: 550.06\tvalid_0's l2: 622420\n",
      "[33]\tvalid_0's l1: 548.09\tvalid_0's l2: 619777\n",
      "[34]\tvalid_0's l1: 546.469\tvalid_0's l2: 617698\n",
      "[35]\tvalid_0's l1: 544.908\tvalid_0's l2: 615590\n",
      "[36]\tvalid_0's l1: 543.389\tvalid_0's l2: 613716\n",
      "[37]\tvalid_0's l1: 541.783\tvalid_0's l2: 611542\n",
      "[38]\tvalid_0's l1: 540.557\tvalid_0's l2: 610002\n",
      "[39]\tvalid_0's l1: 539.413\tvalid_0's l2: 608609\n",
      "[40]\tvalid_0's l1: 538.187\tvalid_0's l2: 607058\n",
      "[41]\tvalid_0's l1: 537.245\tvalid_0's l2: 605778\n",
      "[42]\tvalid_0's l1: 536.234\tvalid_0's l2: 604272\n",
      "[43]\tvalid_0's l1: 535.247\tvalid_0's l2: 602862\n",
      "[44]\tvalid_0's l1: 534.407\tvalid_0's l2: 601710\n",
      "[45]\tvalid_0's l1: 533.659\tvalid_0's l2: 600661\n",
      "[46]\tvalid_0's l1: 532.761\tvalid_0's l2: 599678\n",
      "[47]\tvalid_0's l1: 531.888\tvalid_0's l2: 598576\n",
      "[48]\tvalid_0's l1: 531.276\tvalid_0's l2: 597682\n",
      "[49]\tvalid_0's l1: 530.605\tvalid_0's l2: 596805\n",
      "[50]\tvalid_0's l1: 530.012\tvalid_0's l2: 595857\n",
      "[51]\tvalid_0's l1: 529.253\tvalid_0's l2: 594837\n",
      "[52]\tvalid_0's l1: 528.753\tvalid_0's l2: 594123\n",
      "[53]\tvalid_0's l1: 528.146\tvalid_0's l2: 593196\n",
      "[54]\tvalid_0's l1: 527.594\tvalid_0's l2: 592486\n",
      "[55]\tvalid_0's l1: 527.134\tvalid_0's l2: 591802\n",
      "[56]\tvalid_0's l1: 526.558\tvalid_0's l2: 590774\n",
      "[57]\tvalid_0's l1: 526.172\tvalid_0's l2: 590105\n",
      "[58]\tvalid_0's l1: 525.83\tvalid_0's l2: 589733\n",
      "[59]\tvalid_0's l1: 525.614\tvalid_0's l2: 589549\n",
      "[60]\tvalid_0's l1: 525.132\tvalid_0's l2: 588868\n",
      "[61]\tvalid_0's l1: 524.921\tvalid_0's l2: 588514\n",
      "[62]\tvalid_0's l1: 524.507\tvalid_0's l2: 587840\n",
      "[63]\tvalid_0's l1: 524.266\tvalid_0's l2: 587451\n",
      "[64]\tvalid_0's l1: 523.973\tvalid_0's l2: 587075\n",
      "[65]\tvalid_0's l1: 523.591\tvalid_0's l2: 586696\n",
      "[66]\tvalid_0's l1: 523.339\tvalid_0's l2: 586415\n",
      "[67]\tvalid_0's l1: 522.956\tvalid_0's l2: 586007\n",
      "[68]\tvalid_0's l1: 522.632\tvalid_0's l2: 585563\n",
      "[69]\tvalid_0's l1: 522.219\tvalid_0's l2: 584988\n",
      "[70]\tvalid_0's l1: 522.004\tvalid_0's l2: 584786\n",
      "[71]\tvalid_0's l1: 521.759\tvalid_0's l2: 584556\n",
      "[72]\tvalid_0's l1: 521.518\tvalid_0's l2: 584287\n",
      "[73]\tvalid_0's l1: 521.293\tvalid_0's l2: 584059\n",
      "[74]\tvalid_0's l1: 521.045\tvalid_0's l2: 583809\n",
      "[75]\tvalid_0's l1: 520.923\tvalid_0's l2: 583783\n",
      "[76]\tvalid_0's l1: 520.659\tvalid_0's l2: 583241\n",
      "[77]\tvalid_0's l1: 520.44\tvalid_0's l2: 582910\n",
      "[78]\tvalid_0's l1: 520.232\tvalid_0's l2: 582405\n",
      "[79]\tvalid_0's l1: 520.112\tvalid_0's l2: 582031\n",
      "[80]\tvalid_0's l1: 520.074\tvalid_0's l2: 581914\n",
      "[81]\tvalid_0's l1: 519.746\tvalid_0's l2: 581264\n",
      "[82]\tvalid_0's l1: 519.497\tvalid_0's l2: 581073\n",
      "[83]\tvalid_0's l1: 519.315\tvalid_0's l2: 580770\n",
      "[84]\tvalid_0's l1: 519.222\tvalid_0's l2: 580544\n",
      "[85]\tvalid_0's l1: 519.14\tvalid_0's l2: 580419\n",
      "[86]\tvalid_0's l1: 518.897\tvalid_0's l2: 579980\n",
      "[87]\tvalid_0's l1: 518.715\tvalid_0's l2: 579773\n",
      "[88]\tvalid_0's l1: 518.669\tvalid_0's l2: 579650\n",
      "[89]\tvalid_0's l1: 518.467\tvalid_0's l2: 579262\n",
      "[90]\tvalid_0's l1: 518.254\tvalid_0's l2: 578854\n",
      "[91]\tvalid_0's l1: 517.911\tvalid_0's l2: 578485\n",
      "[92]\tvalid_0's l1: 517.802\tvalid_0's l2: 578507\n",
      "[93]\tvalid_0's l1: 517.735\tvalid_0's l2: 578361\n",
      "[94]\tvalid_0's l1: 517.775\tvalid_0's l2: 578424\n",
      "[95]\tvalid_0's l1: 517.383\tvalid_0's l2: 577594\n",
      "[96]\tvalid_0's l1: 517.199\tvalid_0's l2: 577545\n",
      "[97]\tvalid_0's l1: 516.947\tvalid_0's l2: 577445\n",
      "[98]\tvalid_0's l1: 516.717\tvalid_0's l2: 577215\n",
      "[99]\tvalid_0's l1: 516.545\tvalid_0's l2: 577071\n",
      "[100]\tvalid_0's l1: 516.344\tvalid_0's l2: 576895\n",
      "[101]\tvalid_0's l1: 516.333\tvalid_0's l2: 576815\n",
      "[102]\tvalid_0's l1: 516.149\tvalid_0's l2: 576528\n",
      "[103]\tvalid_0's l1: 516.043\tvalid_0's l2: 576380\n",
      "[104]\tvalid_0's l1: 515.894\tvalid_0's l2: 576072\n",
      "[105]\tvalid_0's l1: 515.76\tvalid_0's l2: 575843\n",
      "[106]\tvalid_0's l1: 515.844\tvalid_0's l2: 575951\n",
      "[107]\tvalid_0's l1: 515.863\tvalid_0's l2: 575985\n",
      "[108]\tvalid_0's l1: 515.869\tvalid_0's l2: 576015\n",
      "[109]\tvalid_0's l1: 515.804\tvalid_0's l2: 575982\n",
      "[110]\tvalid_0's l1: 515.73\tvalid_0's l2: 575814\n",
      "[111]\tvalid_0's l1: 515.747\tvalid_0's l2: 575620\n",
      "[112]\tvalid_0's l1: 515.759\tvalid_0's l2: 575531\n",
      "[113]\tvalid_0's l1: 515.876\tvalid_0's l2: 575466\n",
      "[114]\tvalid_0's l1: 515.922\tvalid_0's l2: 575456\n",
      "[115]\tvalid_0's l1: 515.841\tvalid_0's l2: 575225\n",
      "[116]\tvalid_0's l1: 515.914\tvalid_0's l2: 575303\n",
      "Early stopping, best iteration is:\n",
      "[110]\tvalid_0's l1: 515.73\tvalid_0's l2: 575814\n"
     ]
    }
   ],
   "source": [
    "gbm = lgb.train(params,\n",
    "                d_train,\n",
    "                num_boost_round=200,\n",
    "                valid_sets=d_valid,\n",
    "                early_stopping_rounds=6)\n"
   ]
  },
  {
   "cell_type": "code",
   "execution_count": 156,
   "metadata": {},
   "outputs": [
    {
     "data": {
      "text/html": [
       "<div>\n",
       "<style scoped>\n",
       "    .dataframe tbody tr th:only-of-type {\n",
       "        vertical-align: middle;\n",
       "    }\n",
       "\n",
       "    .dataframe tbody tr th {\n",
       "        vertical-align: top;\n",
       "    }\n",
       "\n",
       "    .dataframe thead th {\n",
       "        text-align: right;\n",
       "    }\n",
       "</style>\n",
       "<table border=\"1\" class=\"dataframe\">\n",
       "  <thead>\n",
       "    <tr style=\"text-align: right;\">\n",
       "      <th></th>\n",
       "      <th>Time from Pickup to Arrival</th>\n",
       "    </tr>\n",
       "    <tr>\n",
       "      <th>Order_No</th>\n",
       "      <th></th>\n",
       "    </tr>\n",
       "  </thead>\n",
       "  <tbody>\n",
       "    <tr>\n",
       "      <td>Order_No_19248</td>\n",
       "      <td>1390.479436</td>\n",
       "    </tr>\n",
       "    <tr>\n",
       "      <td>Order_No_12736</td>\n",
       "      <td>1315.421259</td>\n",
       "    </tr>\n",
       "    <tr>\n",
       "      <td>Order_No_768</td>\n",
       "      <td>1526.947041</td>\n",
       "    </tr>\n",
       "    <tr>\n",
       "      <td>Order_No_15332</td>\n",
       "      <td>1210.469431</td>\n",
       "    </tr>\n",
       "    <tr>\n",
       "      <td>Order_No_21373</td>\n",
       "      <td>1136.713373</td>\n",
       "    </tr>\n",
       "    <tr>\n",
       "      <td>...</td>\n",
       "      <td>...</td>\n",
       "    </tr>\n",
       "    <tr>\n",
       "      <td>Order_No_3612</td>\n",
       "      <td>1566.304671</td>\n",
       "    </tr>\n",
       "    <tr>\n",
       "      <td>Order_No_7657</td>\n",
       "      <td>2958.697904</td>\n",
       "    </tr>\n",
       "    <tr>\n",
       "      <td>Order_No_1969</td>\n",
       "      <td>1572.484601</td>\n",
       "    </tr>\n",
       "    <tr>\n",
       "      <td>Order_No_10591</td>\n",
       "      <td>2394.470565</td>\n",
       "    </tr>\n",
       "    <tr>\n",
       "      <td>Order_No_1603</td>\n",
       "      <td>1597.161898</td>\n",
       "    </tr>\n",
       "  </tbody>\n",
       "</table>\n",
       "<p>7068 rows × 1 columns</p>\n",
       "</div>"
      ],
      "text/plain": [
       "                Time from Pickup to Arrival\n",
       "Order_No                                   \n",
       "Order_No_19248                  1390.479436\n",
       "Order_No_12736                  1315.421259\n",
       "Order_No_768                    1526.947041\n",
       "Order_No_15332                  1210.469431\n",
       "Order_No_21373                  1136.713373\n",
       "...                                     ...\n",
       "Order_No_3612                   1566.304671\n",
       "Order_No_7657                   2958.697904\n",
       "Order_No_1969                   1572.484601\n",
       "Order_No_10591                  2394.470565\n",
       "Order_No_1603                   1597.161898\n",
       "\n",
       "[7068 rows x 1 columns]"
      ]
     },
     "execution_count": 156,
     "metadata": {},
     "output_type": "execute_result"
    }
   ],
   "source": [
    "create_submission(df_sample=df_sample_submission, df_test=df_test, model=gbm, name='lgbm-retrial')"
   ]
  },
  {
   "cell_type": "code",
   "execution_count": 118,
   "metadata": {},
   "outputs": [],
   "source": [
    "import matplotlib.pyplot as plt\n",
    "import seaborn as sns\n",
    "import warnings\n",
    "warnings.simplefilter(action='ignore', category=FutureWarning)\n",
    "\n",
    "def plotImp(model, X , num = 30):\n",
    "    feature_imp = pd.DataFrame({'Value':model.feature_importance(),'Feature':X.columns})\n",
    "    plt.figure(figsize=(40, 20))\n",
    "    sns.set(font_scale = 2.5)\n",
    "    sns.barplot(x=\"Value\", y=\"Feature\", data=feature_imp.sort_values(by=\"Value\", \n",
    "                                                        ascending=False)[0:num])\n",
    "    plt.title('LightGBM Features')\n",
    "    plt.tight_layout()\n",
    "    plt.savefig('lgbm_importances-01.png')\n",
    "    plt.show()"
   ]
  },
  {
   "cell_type": "code",
   "execution_count": 119,
   "metadata": {},
   "outputs": [
    {
     "data": {
      "image/png": "[encoded data removed]",
      "text/plain": [
       "<Figure size 2880x1440 with 1 Axes>"
      ]
     },
     "metadata": {
      "needs_background": "light"
     },
     "output_type": "display_data"
    }
   ],
   "source": [
    "plotImp(gbm,X_train)"
   ]
  },
  {
   "cell_type": "code",
   "execution_count": 36,
   "metadata": {},
   "outputs": [
    {
     "data": {
      "text/plain": [
       "['Distance (KM)',\n",
       " 'Precipitation in millimeters',\n",
       " 'Temperature',\n",
       " 'Age',\n",
       " 'Average_Rating',\n",
       " 'delay_in_pickup',\n",
       " 'unrated',\n",
       " 'dest_x',\n",
       " 'dest_y',\n",
       " 'dest_z',\n",
       " 'pick_x',\n",
       " 'pick_y',\n",
       " 'pick_z',\n",
       " 'Personal or Business_Business',\n",
       " 'Personal or Business_Personal',\n",
       " 'Pickup - Day of Month_beg_month',\n",
       " 'Pickup - Day of Month_endmonth',\n",
       " 'Pickup - Day of Month_midmonth',\n",
       " 'Pickup - Time_normal',\n",
       " 'Pickup - Time_rush',\n",
       " 'Pickup - Weekday (Mo = 1)_1',\n",
       " 'Pickup - Weekday (Mo = 1)_2',\n",
       " 'Pickup - Weekday (Mo = 1)_3',\n",
       " 'Pickup - Weekday (Mo = 1)_4',\n",
       " 'Pickup - Weekday (Mo = 1)_5',\n",
       " 'Pickup - Weekday (Mo = 1)_6',\n",
       " 'Pickup - Weekday (Mo = 1)_7',\n",
       " 'Vehicle Type_Bike',\n",
       " 'Platform Type_1',\n",
       " 'Platform Type_2',\n",
       " 'Platform Type_3',\n",
       " 'Platform Type_4']"
      ]
     },
     "execution_count": 36,
     "metadata": {},
     "output_type": "execute_result"
    }
   ],
   "source": [
    "X_train.columns.to_list()"
   ]
  },
  {
   "cell_type": "code",
   "execution_count": 35,
   "metadata": {},
   "outputs": [
    {
     "data": {
      "text/plain": [
       "0.0     6869\n",
       "2.9       15\n",
       "2.1       15\n",
       "0.9       14\n",
       "2.0       13\n",
       "1.9       13\n",
       "1.1       12\n",
       "1.0       11\n",
       "3.0        9\n",
       "3.1        7\n",
       "11.0       7\n",
       "4.9        7\n",
       "4.1        5\n",
       "4.0        4\n",
       "0.3        4\n",
       "0.8        4\n",
       "10.9       4\n",
       "3.9        4\n",
       "5.0        3\n",
       "0.7        3\n",
       "9.1        3\n",
       "9.0        3\n",
       "16.1       3\n",
       "0.5        3\n",
       "0.2        3\n",
       "52.1       2\n",
       "16.0       2\n",
       "14.0       2\n",
       "6.9        2\n",
       "15.9       2\n",
       "42.9       2\n",
       "0.1        2\n",
       "17.0       2\n",
       "13.9       2\n",
       "99.1       2\n",
       "8.9        2\n",
       "0.4        1\n",
       "7.0        1\n",
       "99.0       1\n",
       "51.9       1\n",
       "17.1       1\n",
       "14.1       1\n",
       "11.1       1\n",
       "5.1        1\n",
       "Name: Precipitation in millimeters, dtype: int64"
      ]
     },
     "execution_count": 35,
     "metadata": {},
     "output_type": "execute_result"
    }
   ],
   "source": [
    "df_test['Precipitation in millimeters'].value_counts()"
   ]
  },
  {
   "cell_type": "code",
   "execution_count": null,
   "metadata": {},
   "outputs": [],
   "source": []
  },
  {
   "cell_type": "code",
   "execution_count": null,
   "metadata": {},
   "outputs": [],
   "source": []
  },
  {
   "cell_type": "code",
   "execution_count": null,
   "metadata": {},
   "outputs": [],
   "source": []
  },
  {
   "cell_type": "code",
   "execution_count": null,
   "metadata": {},
   "outputs": [],
   "source": []
  },
  {
   "cell_type": "markdown",
   "metadata": {},
   "source": [
    "### Neural networks"
   ]
  },
  {
   "cell_type": "code",
   "execution_count": null,
   "metadata": {},
   "outputs": [],
   "source": [
    "from fastai import *\n",
    "from fastai.tabular import * "
   ]
  },
  {
   "cell_type": "code",
   "execution_count": null,
   "metadata": {},
   "outputs": [],
   "source": [
    "dep_var ='Time from Pickup to Arrival' #y_train.copy()"
   ]
  },
  {
   "cell_type": "code",
   "execution_count": null,
   "metadata": {},
   "outputs": [],
   "source": [
    "df_test['Time from Pickup to Arrival'] = 0"
   ]
  },
  {
   "cell_type": "code",
   "execution_count": null,
   "metadata": {},
   "outputs": [],
   "source": [
    "X_test['Time from Pickup to Arrival'] = y_test"
   ]
  },
  {
   "cell_type": "code",
   "execution_count": null,
   "metadata": {},
   "outputs": [],
   "source": [
    "test = TabularList.from_df(df_test,cont_names=list(df_test.drop('Time from Pickup to Arrival',axis=1).columns))"
   ]
  },
  {
   "cell_type": "code",
   "execution_count": null,
   "metadata": {},
   "outputs": [],
   "source": [
    "X_train['Time from Pickup to Arrival'] = y_train"
   ]
  },
  {
   "cell_type": "code",
   "execution_count": null,
   "metadata": {},
   "outputs": [],
   "source": [
    "cont_names = list(df.columns)\n",
    "dep_var = 'Time from Pickup to Arrival'"
   ]
  },
  {
   "cell_type": "code",
   "execution_count": null,
   "metadata": {},
   "outputs": [],
   "source": [
    "procs = [FillMissing, Categorify, Normalize]"
   ]
  },
  {
   "cell_type": "code",
   "execution_count": null,
   "metadata": {
    "scrolled": true
   },
   "outputs": [],
   "source": [
    "data = (TabularList.from_df(df_train, path='.',cont_names=cont_names,procs=procs)\n",
    "        .split_none()\n",
    "        #.random_split_by_pct(0.2, seed=42)\n",
    "        .label_from_df(cols=dep_var)\n",
    "        .add_test(test)\n",
    "        .databunch()\n",
    ")"
   ]
  },
  {
   "cell_type": "code",
   "execution_count": null,
   "metadata": {},
   "outputs": [],
   "source": [
    "data.show_batch(rows=10)"
   ]
  },
  {
   "cell_type": "code",
   "execution_count": null,
   "metadata": {},
   "outputs": [],
   "source": [
    "learn = tabular_learner(data, layers=[200,100], metrics=rmse)"
   ]
  },
  {
   "cell_type": "code",
   "execution_count": null,
   "metadata": {},
   "outputs": [],
   "source": [
    "learn.lr_find()\n",
    "learn.recorder.plot()"
   ]
  },
  {
   "cell_type": "code",
   "execution_count": null,
   "metadata": {},
   "outputs": [],
   "source": [
    "learn.fit(1, 1e-2)"
   ]
  },
  {
   "cell_type": "code",
   "execution_count": null,
   "metadata": {},
   "outputs": [],
   "source": [
    "learn.fit_one_cycle(15, max_lr =1e-01)"
   ]
  },
  {
   "cell_type": "code",
   "execution_count": null,
   "metadata": {},
   "outputs": [],
   "source": [
    "preds = learn.get_preds(DatasetType.Test)"
   ]
  },
  {
   "cell_type": "code",
   "execution_count": null,
   "metadata": {},
   "outputs": [],
   "source": [
    "preds"
   ]
  },
  {
   "cell_type": "code",
   "execution_count": null,
   "metadata": {},
   "outputs": [],
   "source": []
  },
  {
   "cell_type": "code",
   "execution_count": null,
   "metadata": {},
   "outputs": [],
   "source": []
  },
  {
   "cell_type": "code",
   "execution_count": null,
   "metadata": {},
   "outputs": [],
   "source": []
  },
  {
   "cell_type": "code",
   "execution_count": null,
   "metadata": {},
   "outputs": [],
   "source": []
  },
  {
   "cell_type": "code",
   "execution_count": null,
   "metadata": {},
   "outputs": [],
   "source": []
  },
  {
   "cell_type": "code",
   "execution_count": null,
   "metadata": {},
   "outputs": [],
   "source": []
  },
  {
   "cell_type": "code",
   "execution_count": null,
   "metadata": {},
   "outputs": [],
   "source": []
  }
 ],
 "metadata": {
  "kernelspec": {
   "display_name": "Python 3",
   "language": "python",
   "name": "python3"
  },
  "language_info": {
   "codemirror_mode": {
    "name": "ipython",
    "version": 3
   },
   "file_extension": ".py",
   "mimetype": "text/x-python",
   "name": "python",
   "nbconvert_exporter": "python",
   "pygments_lexer": "ipython3",
   "version": "3.7.3"
  }
 },
 "nbformat": 4,
 "nbformat_minor": 2
}
