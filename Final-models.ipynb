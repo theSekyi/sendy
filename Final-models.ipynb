{
 "cells": [
  {
   "cell_type": "code",
   "execution_count": 167,
   "metadata": {},
   "outputs": [
    {
     "name": "stdout",
     "output_type": "stream",
     "text": [
      "The autoreload extension is already loaded. To reload it, use:\n",
      "  %reload_ext autoreload\n"
     ]
    }
   ],
   "source": [
    "%load_ext autoreload\n",
    "%autoreload 2\n",
    "\n",
    "%matplotlib inline\n",
    "%reload_ext autoreload"
   ]
  },
  {
   "cell_type": "code",
   "execution_count": 168,
   "metadata": {},
   "outputs": [],
   "source": [
    "import pandas as pd\n",
    "import matplotlib.pyplot as plt\n",
    "import numpy as np"
   ]
  },
  {
   "cell_type": "code",
   "execution_count": 169,
   "metadata": {},
   "outputs": [],
   "source": [
    "from src.utils import *\n",
    "from src.cleaning import *"
   ]
  },
  {
   "cell_type": "code",
   "execution_count": 170,
   "metadata": {},
   "outputs": [],
   "source": [
    "from pylab import rcParams\n",
    "rcParams['figure.figsize'] = 15, 10"
   ]
  },
  {
   "cell_type": "code",
   "execution_count": 171,
   "metadata": {},
   "outputs": [],
   "source": [
    "from sklearn.ensemble import RandomForestRegressor\n",
    "import xgboost "
   ]
  },
  {
   "cell_type": "markdown",
   "metadata": {},
   "source": [
    "#### IMPORT DATASET"
   ]
  },
  {
   "cell_type": "code",
   "execution_count": 172,
   "metadata": {},
   "outputs": [],
   "source": [
    "df = pd.read_csv('df_all.csv',parse_dates=['Arrival at Pickup - Time','Confirmation - Time'])"
   ]
  },
  {
   "cell_type": "code",
   "execution_count": 173,
   "metadata": {},
   "outputs": [],
   "source": [
    "df['Precipitation in millimeters'].fillna(0,inplace=True)"
   ]
  },
  {
   "cell_type": "code",
   "execution_count": 174,
   "metadata": {
    "scrolled": true
   },
   "outputs": [],
   "source": [
    "df['delay_in_pickup'] = (df['Arrival at Pickup - Time'] - df['Confirmation - Time']).dt.total_seconds()"
   ]
  },
  {
   "cell_type": "code",
   "execution_count": 175,
   "metadata": {},
   "outputs": [],
   "source": [
    "df['unrated'] = df['No_Of_Orders'] - df['No_of_Ratings']"
   ]
  },
  {
   "cell_type": "code",
   "execution_count": 176,
   "metadata": {},
   "outputs": [],
   "source": [
    "df['Temperature'] = df['Temperature'].fillna(df['Temperature'].mean())"
   ]
  },
  {
   "cell_type": "code",
   "execution_count": 177,
   "metadata": {},
   "outputs": [],
   "source": [
    "df['Time from Pickup to Arrival'] = np.log(df['Time from Pickup to Arrival'])"
   ]
  },
  {
   "cell_type": "code",
   "execution_count": 178,
   "metadata": {},
   "outputs": [
    {
     "data": {
      "text/plain": [
       "(0.0, 8.972463821059907)"
      ]
     },
     "execution_count": 178,
     "metadata": {},
     "output_type": "execute_result"
    }
   ],
   "source": [
    "df['Time from Pickup to Arrival'].min(),df['Time from Pickup to Arrival'].max()"
   ]
  },
  {
   "cell_type": "markdown",
   "metadata": {},
   "source": [
    "#### Features 1"
   ]
  },
  {
   "cell_type": "code",
   "execution_count": 179,
   "metadata": {},
   "outputs": [],
   "source": [
    "from sklearn.model_selection import train_test_split"
   ]
  },
  {
   "cell_type": "code",
   "execution_count": 180,
   "metadata": {},
   "outputs": [],
   "source": [
    "disjoint_cols = ['Rider Id','User Id','Vehicle Type', 'Pickup Lat', 'Pickup Long',\n",
    "                 'Destination Lat', 'Destination Long','Confirmation - Day of Month',\n",
    "       'Confirmation - Time', 'Confirmation - Weekday (Mo = 1)','Personal or Business','Placement - Time',\n",
    "       'Placement - Weekday (Mo = 1)', 'Platform Type','orders','dropoff_longitude',\n",
    "       'dropoff_latitude','Arrival at Pickup - Day of Month', 'Arrival at Pickup - Time',\n",
    "       'Arrival at Pickup - Weekday (Mo = 1)', 'Order No','Pickup - Day of Month', 'Pickup - Time',\n",
    "       'Pickup - Weekday (Mo = 1)', 'Placement - Day of Month','pickup_longitude', 'pickup_latitude','geometry']"
   ]
  },
  {
   "cell_type": "code",
   "execution_count": 181,
   "metadata": {},
   "outputs": [],
   "source": [
    "df_1 = df.drop(disjoint_cols,axis=1)"
   ]
  },
  {
   "cell_type": "code",
   "execution_count": 182,
   "metadata": {},
   "outputs": [
    {
     "data": {
      "text/plain": [
       "Index(['Distance (KM)', 'Precipitation in millimeters', 'Temperature',\n",
       "       'Time from Pickup to Arrival', 'col_type', 'No_Of_Orders', 'Age',\n",
       "       'Average_Rating', 'No_of_Ratings', 'pickup_pca0', 'pickup_pca1',\n",
       "       'dropoff_pca0', 'dropoff_pca1', 'distance_haversine',\n",
       "       'distance_dummy_manhattan', 'direction', 'pca_manhattan',\n",
       "       'center_latitude', 'center_longitude', 'pickup_hour',\n",
       "       'pickup_destination_traffic', 'delay_in_pickup', 'unrated'],\n",
       "      dtype='object')"
      ]
     },
     "execution_count": 182,
     "metadata": {},
     "output_type": "execute_result"
    }
   ],
   "source": [
    "df_1.columns"
   ]
  },
  {
   "cell_type": "code",
   "execution_count": 183,
   "metadata": {},
   "outputs": [],
   "source": [
    "df_test_1 = df_1[df_1['col_type'] == 'test']\n",
    "df_test_1 = df_test_1.drop(['col_type','Time from Pickup to Arrival'],axis=1)"
   ]
  },
  {
   "cell_type": "code",
   "execution_count": 184,
   "metadata": {},
   "outputs": [],
   "source": [
    "train_1 = df_1[df_1['col_type'] == 'train' ]"
   ]
  },
  {
   "cell_type": "code",
   "execution_count": 185,
   "metadata": {},
   "outputs": [],
   "source": [
    "train_1 = train_1.drop('col_type',axis=1)"
   ]
  },
  {
   "cell_type": "code",
   "execution_count": 186,
   "metadata": {
    "scrolled": true
   },
   "outputs": [
    {
     "data": {
      "text/plain": [
       "Index(['Distance (KM)', 'Precipitation in millimeters', 'Temperature',\n",
       "       'Time from Pickup to Arrival', 'No_Of_Orders', 'Age', 'Average_Rating',\n",
       "       'No_of_Ratings', 'pickup_pca0', 'pickup_pca1', 'dropoff_pca0',\n",
       "       'dropoff_pca1', 'distance_haversine', 'distance_dummy_manhattan',\n",
       "       'direction', 'pca_manhattan', 'center_latitude', 'center_longitude',\n",
       "       'pickup_hour', 'pickup_destination_traffic', 'delay_in_pickup',\n",
       "       'unrated'],\n",
       "      dtype='object')"
      ]
     },
     "execution_count": 186,
     "metadata": {},
     "output_type": "execute_result"
    }
   ],
   "source": [
    "train_1.columns"
   ]
  },
  {
   "cell_type": "code",
   "execution_count": 187,
   "metadata": {},
   "outputs": [],
   "source": [
    "X_train, X_test, y_train, y_test = train_test_split(\n",
    "    train_1.drop([\"Time from Pickup to Arrival\"],axis=1), train_1['Time from Pickup to Arrival'], test_size=0.33, random_state=42)"
   ]
  },
  {
   "cell_type": "markdown",
   "metadata": {},
   "source": [
    "#### Models"
   ]
  },
  {
   "cell_type": "markdown",
   "metadata": {},
   "source": [
    "##### RF"
   ]
  },
  {
   "cell_type": "code",
   "execution_count": 188,
   "metadata": {},
   "outputs": [],
   "source": [
    "def print_score(m):\n",
    "    res = [\n",
    "        rmse(m.predict(X_train), y_train),\n",
    "        rmse(m.predict(X_test), y_test),\n",
    "        m.score(X_train, y_train),\n",
    "        m.score(X_test, y_test),\n",
    "    ]\n",
    "    if hasattr(m, \"oob_score_\"):\n",
    "        res.append(m.oob_score_)\n",
    "    print(res)"
   ]
  },
  {
   "cell_type": "code",
   "execution_count": 189,
   "metadata": {},
   "outputs": [
    {
     "name": "stdout",
     "output_type": "stream",
     "text": [
      "[0.6137212907651962, 0.9243512977342021, 0.7377682252128428, 0.38981934398112883, 0.3389239323783233]\n"
     ]
    }
   ],
   "source": [
    "m = RandomForestRegressor(n_estimators=40, min_samples_leaf=3, max_features=0.5, n_jobs=-1, oob_score=True)\n",
    "m.fit(X_train, y_train)\n",
    "print_score(m)"
   ]
  },
  {
   "cell_type": "code",
   "execution_count": 190,
   "metadata": {},
   "outputs": [],
   "source": [
    "fi = rf_feat_importance(m,X_train)"
   ]
  },
  {
   "cell_type": "code",
   "execution_count": 191,
   "metadata": {
    "scrolled": true
   },
   "outputs": [
    {
     "data": {
      "text/plain": [
       "<matplotlib.axes._subplots.AxesSubplot at 0x12e8cda20>"
      ]
     },
     "execution_count": 191,
     "metadata": {},
     "output_type": "execute_result"
    },
    {
     "data": {
      "image/png": "[encoded data removed]",
      "text/plain": [
       "<Figure size 864x504 with 1 Axes>"
      ]
     },
     "metadata": {
      "needs_background": "light"
     },
     "output_type": "display_data"
    }
   ],
   "source": [
    "plot_fi(fi)"
   ]
  },
  {
   "cell_type": "markdown",
   "metadata": {},
   "source": [
    "##### Light GBM"
   ]
  },
  {
   "cell_type": "code",
   "execution_count": 192,
   "metadata": {},
   "outputs": [],
   "source": [
    "import lightgbm as lgb"
   ]
  },
  {
   "cell_type": "code",
   "execution_count": 193,
   "metadata": {},
   "outputs": [],
   "source": [
    "params = {\n",
    "    'boosting_type': 'gbdt',\n",
    "    'objective': 'regression',\n",
    "    'metric': {'l2', 'l1'},\n",
    "    'num_leaves': 31,\n",
    "    'learning_rate': 0.05,\n",
    "    'feature_fraction': 0.9,\n",
    "    'bagging_fraction': 0.8,\n",
    "    'bagging_freq': 5,\n",
    "    'verbose': 0\n",
    "}\n",
    "d_train = lgb.Dataset(X_train, label=y_train)\n",
    "d_valid = lgb.Dataset(X_test, label=y_test)"
   ]
  },
  {
   "cell_type": "code",
   "execution_count": 194,
   "metadata": {},
   "outputs": [
    {
     "name": "stdout",
     "output_type": "stream",
     "text": [
      "[1]\tvalid_0's l1: 0.670056\tvalid_0's l2: 1.35217\n",
      "Training until validation scores don't improve for 10 rounds.\n",
      "[2]\tvalid_0's l1: 0.655056\tvalid_0's l2: 1.30889\n",
      "[3]\tvalid_0's l1: 0.640921\tvalid_0's l2: 1.27003\n",
      "[4]\tvalid_0's l1: 0.627713\tvalid_0's l2: 1.23324\n",
      "[5]\tvalid_0's l1: 0.61575\tvalid_0's l2: 1.20147\n",
      "[6]\tvalid_0's l1: 0.604396\tvalid_0's l2: 1.17093\n",
      "[7]\tvalid_0's l1: 0.594166\tvalid_0's l2: 1.14304\n",
      "[8]\tvalid_0's l1: 0.58449\tvalid_0's l2: 1.11771\n",
      "[9]\tvalid_0's l1: 0.576042\tvalid_0's l2: 1.09672\n",
      "[10]\tvalid_0's l1: 0.568005\tvalid_0's l2: 1.07717\n",
      "[11]\tvalid_0's l1: 0.560441\tvalid_0's l2: 1.05831\n",
      "[12]\tvalid_0's l1: 0.553291\tvalid_0's l2: 1.04058\n",
      "[13]\tvalid_0's l1: 0.547188\tvalid_0's l2: 1.02514\n",
      "[14]\tvalid_0's l1: 0.541476\tvalid_0's l2: 1.01097\n",
      "[15]\tvalid_0's l1: 0.536819\tvalid_0's l2: 0.999401\n",
      "[16]\tvalid_0's l1: 0.532559\tvalid_0's l2: 0.988205\n",
      "[17]\tvalid_0's l1: 0.528081\tvalid_0's l2: 0.977143\n",
      "[18]\tvalid_0's l1: 0.524328\tvalid_0's l2: 0.967914\n",
      "[19]\tvalid_0's l1: 0.520981\tvalid_0's l2: 0.959618\n",
      "[20]\tvalid_0's l1: 0.517789\tvalid_0's l2: 0.951621\n",
      "[21]\tvalid_0's l1: 0.514486\tvalid_0's l2: 0.942725\n",
      "[22]\tvalid_0's l1: 0.511829\tvalid_0's l2: 0.935813\n",
      "[23]\tvalid_0's l1: 0.509327\tvalid_0's l2: 0.929862\n",
      "[24]\tvalid_0's l1: 0.507154\tvalid_0's l2: 0.923739\n",
      "[25]\tvalid_0's l1: 0.505031\tvalid_0's l2: 0.918464\n",
      "[26]\tvalid_0's l1: 0.50321\tvalid_0's l2: 0.9133\n",
      "[27]\tvalid_0's l1: 0.501931\tvalid_0's l2: 0.909401\n",
      "[28]\tvalid_0's l1: 0.500121\tvalid_0's l2: 0.90467\n",
      "[29]\tvalid_0's l1: 0.498606\tvalid_0's l2: 0.900425\n",
      "[30]\tvalid_0's l1: 0.497594\tvalid_0's l2: 0.89698\n",
      "[31]\tvalid_0's l1: 0.496457\tvalid_0's l2: 0.893262\n",
      "[32]\tvalid_0's l1: 0.495552\tvalid_0's l2: 0.889657\n",
      "[33]\tvalid_0's l1: 0.494445\tvalid_0's l2: 0.886562\n",
      "[34]\tvalid_0's l1: 0.4933\tvalid_0's l2: 0.884242\n",
      "[35]\tvalid_0's l1: 0.492229\tvalid_0's l2: 0.881011\n",
      "[36]\tvalid_0's l1: 0.491123\tvalid_0's l2: 0.87813\n",
      "[37]\tvalid_0's l1: 0.490498\tvalid_0's l2: 0.876232\n",
      "[38]\tvalid_0's l1: 0.489846\tvalid_0's l2: 0.873427\n",
      "[39]\tvalid_0's l1: 0.488826\tvalid_0's l2: 0.870734\n",
      "[40]\tvalid_0's l1: 0.488194\tvalid_0's l2: 0.868194\n",
      "[41]\tvalid_0's l1: 0.487449\tvalid_0's l2: 0.866418\n",
      "[42]\tvalid_0's l1: 0.487047\tvalid_0's l2: 0.864822\n",
      "[43]\tvalid_0's l1: 0.48703\tvalid_0's l2: 0.864034\n",
      "[44]\tvalid_0's l1: 0.487028\tvalid_0's l2: 0.863373\n",
      "[45]\tvalid_0's l1: 0.486676\tvalid_0's l2: 0.862159\n",
      "[46]\tvalid_0's l1: 0.486376\tvalid_0's l2: 0.860893\n",
      "[47]\tvalid_0's l1: 0.486062\tvalid_0's l2: 0.859537\n",
      "[48]\tvalid_0's l1: 0.485848\tvalid_0's l2: 0.859045\n",
      "[49]\tvalid_0's l1: 0.485627\tvalid_0's l2: 0.85792\n",
      "[50]\tvalid_0's l1: 0.485423\tvalid_0's l2: 0.857401\n",
      "[51]\tvalid_0's l1: 0.485138\tvalid_0's l2: 0.856709\n",
      "[52]\tvalid_0's l1: 0.484804\tvalid_0's l2: 0.854416\n",
      "[53]\tvalid_0's l1: 0.484792\tvalid_0's l2: 0.853281\n",
      "[54]\tvalid_0's l1: 0.484782\tvalid_0's l2: 0.852378\n",
      "[55]\tvalid_0's l1: 0.484423\tvalid_0's l2: 0.851479\n",
      "[56]\tvalid_0's l1: 0.484599\tvalid_0's l2: 0.851073\n",
      "[57]\tvalid_0's l1: 0.484221\tvalid_0's l2: 0.849948\n",
      "[58]\tvalid_0's l1: 0.484287\tvalid_0's l2: 0.849526\n",
      "[59]\tvalid_0's l1: 0.484172\tvalid_0's l2: 0.848333\n",
      "[60]\tvalid_0's l1: 0.484106\tvalid_0's l2: 0.84771\n",
      "[61]\tvalid_0's l1: 0.48429\tvalid_0's l2: 0.846878\n",
      "[62]\tvalid_0's l1: 0.484118\tvalid_0's l2: 0.846172\n",
      "[63]\tvalid_0's l1: 0.483982\tvalid_0's l2: 0.845455\n",
      "[64]\tvalid_0's l1: 0.483722\tvalid_0's l2: 0.844657\n",
      "[65]\tvalid_0's l1: 0.483796\tvalid_0's l2: 0.844324\n",
      "[66]\tvalid_0's l1: 0.483655\tvalid_0's l2: 0.844017\n",
      "[67]\tvalid_0's l1: 0.483777\tvalid_0's l2: 0.843253\n",
      "[68]\tvalid_0's l1: 0.483892\tvalid_0's l2: 0.843245\n",
      "[69]\tvalid_0's l1: 0.484052\tvalid_0's l2: 0.842791\n",
      "[70]\tvalid_0's l1: 0.484086\tvalid_0's l2: 0.842338\n",
      "[71]\tvalid_0's l1: 0.483995\tvalid_0's l2: 0.841743\n",
      "[72]\tvalid_0's l1: 0.483937\tvalid_0's l2: 0.841532\n",
      "[73]\tvalid_0's l1: 0.483827\tvalid_0's l2: 0.840971\n",
      "[74]\tvalid_0's l1: 0.483332\tvalid_0's l2: 0.83958\n",
      "[75]\tvalid_0's l1: 0.483208\tvalid_0's l2: 0.839205\n",
      "[76]\tvalid_0's l1: 0.483285\tvalid_0's l2: 0.838934\n",
      "[77]\tvalid_0's l1: 0.483452\tvalid_0's l2: 0.839015\n",
      "[78]\tvalid_0's l1: 0.483599\tvalid_0's l2: 0.838812\n",
      "[79]\tvalid_0's l1: 0.483539\tvalid_0's l2: 0.837955\n",
      "[80]\tvalid_0's l1: 0.48366\tvalid_0's l2: 0.837939\n",
      "[81]\tvalid_0's l1: 0.483679\tvalid_0's l2: 0.837762\n",
      "[82]\tvalid_0's l1: 0.483519\tvalid_0's l2: 0.837335\n",
      "[83]\tvalid_0's l1: 0.483513\tvalid_0's l2: 0.837209\n",
      "[84]\tvalid_0's l1: 0.483176\tvalid_0's l2: 0.836445\n",
      "[85]\tvalid_0's l1: 0.483102\tvalid_0's l2: 0.835588\n",
      "[86]\tvalid_0's l1: 0.483097\tvalid_0's l2: 0.83532\n",
      "[87]\tvalid_0's l1: 0.482848\tvalid_0's l2: 0.834664\n",
      "[88]\tvalid_0's l1: 0.482841\tvalid_0's l2: 0.834164\n",
      "[89]\tvalid_0's l1: 0.482642\tvalid_0's l2: 0.833083\n",
      "[90]\tvalid_0's l1: 0.482751\tvalid_0's l2: 0.832884\n",
      "[91]\tvalid_0's l1: 0.482704\tvalid_0's l2: 0.832834\n",
      "[92]\tvalid_0's l1: 0.482689\tvalid_0's l2: 0.83257\n",
      "[93]\tvalid_0's l1: 0.482586\tvalid_0's l2: 0.832081\n",
      "[94]\tvalid_0's l1: 0.482564\tvalid_0's l2: 0.832229\n",
      "[95]\tvalid_0's l1: 0.482688\tvalid_0's l2: 0.831703\n",
      "[96]\tvalid_0's l1: 0.482841\tvalid_0's l2: 0.831439\n",
      "[97]\tvalid_0's l1: 0.48299\tvalid_0's l2: 0.831259\n",
      "[98]\tvalid_0's l1: 0.48307\tvalid_0's l2: 0.830816\n",
      "[99]\tvalid_0's l1: 0.483127\tvalid_0's l2: 0.830295\n",
      "[100]\tvalid_0's l1: 0.483266\tvalid_0's l2: 0.830187\n",
      "[101]\tvalid_0's l1: 0.483289\tvalid_0's l2: 0.8297\n",
      "[102]\tvalid_0's l1: 0.483439\tvalid_0's l2: 0.829586\n",
      "[103]\tvalid_0's l1: 0.48362\tvalid_0's l2: 0.830013\n",
      "[104]\tvalid_0's l1: 0.483595\tvalid_0's l2: 0.829318\n",
      "Early stopping, best iteration is:\n",
      "[94]\tvalid_0's l1: 0.482564\tvalid_0's l2: 0.832229\n"
     ]
    }
   ],
   "source": [
    "gbm = lgb.train(params,\n",
    "                d_train,\n",
    "                num_boost_round=200,\n",
    "                valid_sets=d_valid,\n",
    "                early_stopping_rounds=10)\n"
   ]
  },
  {
   "cell_type": "code",
   "execution_count": 195,
   "metadata": {},
   "outputs": [],
   "source": [
    "df_sample_submission = pd.read_csv('data/SampleSubmission.csv')"
   ]
  },
  {
   "cell_type": "code",
   "execution_count": 196,
   "metadata": {},
   "outputs": [
    {
     "data": {
      "text/html": [
       "<div>\n",
       "<style scoped>\n",
       "    .dataframe tbody tr th:only-of-type {\n",
       "        vertical-align: middle;\n",
       "    }\n",
       "\n",
       "    .dataframe tbody tr th {\n",
       "        vertical-align: top;\n",
       "    }\n",
       "\n",
       "    .dataframe thead th {\n",
       "        text-align: right;\n",
       "    }\n",
       "</style>\n",
       "<table border=\"1\" class=\"dataframe\">\n",
       "  <thead>\n",
       "    <tr style=\"text-align: right;\">\n",
       "      <th></th>\n",
       "      <th>Time from Pickup to Arrival</th>\n",
       "    </tr>\n",
       "    <tr>\n",
       "      <th>Order_No</th>\n",
       "      <th></th>\n",
       "    </tr>\n",
       "  </thead>\n",
       "  <tbody>\n",
       "    <tr>\n",
       "      <td>Order_No_19248</td>\n",
       "      <td>6.845906</td>\n",
       "    </tr>\n",
       "    <tr>\n",
       "      <td>Order_No_12736</td>\n",
       "      <td>7.485000</td>\n",
       "    </tr>\n",
       "    <tr>\n",
       "      <td>Order_No_768</td>\n",
       "      <td>7.584321</td>\n",
       "    </tr>\n",
       "    <tr>\n",
       "      <td>Order_No_15332</td>\n",
       "      <td>7.487247</td>\n",
       "    </tr>\n",
       "    <tr>\n",
       "      <td>Order_No_21373</td>\n",
       "      <td>7.521897</td>\n",
       "    </tr>\n",
       "    <tr>\n",
       "      <td>...</td>\n",
       "      <td>...</td>\n",
       "    </tr>\n",
       "    <tr>\n",
       "      <td>Order_No_3612</td>\n",
       "      <td>7.705336</td>\n",
       "    </tr>\n",
       "    <tr>\n",
       "      <td>Order_No_7657</td>\n",
       "      <td>7.052999</td>\n",
       "    </tr>\n",
       "    <tr>\n",
       "      <td>Order_No_1969</td>\n",
       "      <td>7.424328</td>\n",
       "    </tr>\n",
       "    <tr>\n",
       "      <td>Order_No_10591</td>\n",
       "      <td>7.387956</td>\n",
       "    </tr>\n",
       "    <tr>\n",
       "      <td>Order_No_1603</td>\n",
       "      <td>7.471833</td>\n",
       "    </tr>\n",
       "  </tbody>\n",
       "</table>\n",
       "<p>7068 rows × 1 columns</p>\n",
       "</div>"
      ],
      "text/plain": [
       "                Time from Pickup to Arrival\n",
       "Order_No                                   \n",
       "Order_No_19248                     6.845906\n",
       "Order_No_12736                     7.485000\n",
       "Order_No_768                       7.584321\n",
       "Order_No_15332                     7.487247\n",
       "Order_No_21373                     7.521897\n",
       "...                                     ...\n",
       "Order_No_3612                      7.705336\n",
       "Order_No_7657                      7.052999\n",
       "Order_No_1969                      7.424328\n",
       "Order_No_10591                     7.387956\n",
       "Order_No_1603                      7.471833\n",
       "\n",
       "[7068 rows x 1 columns]"
      ]
     },
     "execution_count": 196,
     "metadata": {},
     "output_type": "execute_result"
    }
   ],
   "source": [
    "create_submission(df_sample=df_sample_submission, df_test=df_test_1, model=gbm, name='lgbm11')"
   ]
  },
  {
   "cell_type": "code",
   "execution_count": null,
   "metadata": {},
   "outputs": [],
   "source": []
  },
  {
   "cell_type": "markdown",
   "metadata": {},
   "source": [
    "#### FEATURE 2"
   ]
  },
  {
   "cell_type": "code",
   "execution_count": 197,
   "metadata": {},
   "outputs": [],
   "source": [
    "df_2 = df.drop(disjoint_cols,axis=1)"
   ]
  },
  {
   "cell_type": "code",
   "execution_count": 198,
   "metadata": {},
   "outputs": [
    {
     "data": {
      "text/plain": [
       "Index(['Distance (KM)', 'Precipitation in millimeters', 'Temperature',\n",
       "       'Time from Pickup to Arrival', 'col_type', 'No_Of_Orders', 'Age',\n",
       "       'Average_Rating', 'No_of_Ratings', 'pickup_pca0', 'pickup_pca1',\n",
       "       'dropoff_pca0', 'dropoff_pca1', 'distance_haversine',\n",
       "       'distance_dummy_manhattan', 'direction', 'pca_manhattan',\n",
       "       'center_latitude', 'center_longitude', 'pickup_hour',\n",
       "       'pickup_destination_traffic', 'delay_in_pickup', 'unrated'],\n",
       "      dtype='object')"
      ]
     },
     "execution_count": 198,
     "metadata": {},
     "output_type": "execute_result"
    }
   ],
   "source": [
    "df_2.columns"
   ]
  },
  {
   "cell_type": "code",
   "execution_count": 199,
   "metadata": {},
   "outputs": [],
   "source": [
    "df_2 = df_2.drop(['Distance (KM)', 'Precipitation in millimeters','distance_dummy_manhattan',],axis=1)"
   ]
  },
  {
   "cell_type": "code",
   "execution_count": 200,
   "metadata": {},
   "outputs": [
    {
     "data": {
      "text/plain": [
       "Index(['Temperature', 'Time from Pickup to Arrival', 'col_type',\n",
       "       'No_Of_Orders', 'Age', 'Average_Rating', 'No_of_Ratings', 'pickup_pca0',\n",
       "       'pickup_pca1', 'dropoff_pca0', 'dropoff_pca1', 'distance_haversine',\n",
       "       'direction', 'pca_manhattan', 'center_latitude', 'center_longitude',\n",
       "       'pickup_hour', 'pickup_destination_traffic', 'delay_in_pickup',\n",
       "       'unrated'],\n",
       "      dtype='object')"
      ]
     },
     "execution_count": 200,
     "metadata": {},
     "output_type": "execute_result"
    }
   ],
   "source": [
    "df_2.columns"
   ]
  },
  {
   "cell_type": "code",
   "execution_count": 201,
   "metadata": {},
   "outputs": [],
   "source": [
    "df_test_2 = df_2[df_2['col_type'] == 'test']\n",
    "df_test_2 = df_test_2.drop(['col_type','Time from Pickup to Arrival'],axis=1)"
   ]
  },
  {
   "cell_type": "code",
   "execution_count": 202,
   "metadata": {},
   "outputs": [],
   "source": [
    "train_2 = df_2[df_2['col_type'] == 'train' ]"
   ]
  },
  {
   "cell_type": "code",
   "execution_count": 203,
   "metadata": {},
   "outputs": [],
   "source": [
    "train_2 = train_2.drop('col_type',axis=1)"
   ]
  },
  {
   "cell_type": "code",
   "execution_count": 204,
   "metadata": {},
   "outputs": [],
   "source": [
    "X_train, X_test, y_train, y_test = train_test_split(\n",
    "    train_2.drop([\"Time from Pickup to Arrival\"],axis=1), train_2['Time from Pickup to Arrival'], test_size=0.33, random_state=42)"
   ]
  },
  {
   "cell_type": "markdown",
   "metadata": {},
   "source": [
    "##### RF"
   ]
  },
  {
   "cell_type": "code",
   "execution_count": 205,
   "metadata": {},
   "outputs": [
    {
     "name": "stdout",
     "output_type": "stream",
     "text": [
      "[0.6203022268331233, 0.9261426834686308, 0.7321142481420562, 0.3874520013811933, 0.335191217247094]\n"
     ]
    }
   ],
   "source": [
    "m = RandomForestRegressor(n_estimators=40, min_samples_leaf=3, max_features=0.5, n_jobs=-1, oob_score=True)\n",
    "m.fit(X_train, y_train)\n",
    "print_score(m)"
   ]
  },
  {
   "cell_type": "code",
   "execution_count": 206,
   "metadata": {},
   "outputs": [],
   "source": [
    "fi = rf_feat_importance(m,X_train)"
   ]
  },
  {
   "cell_type": "code",
   "execution_count": 207,
   "metadata": {},
   "outputs": [
    {
     "data": {
      "text/plain": [
       "<matplotlib.axes._subplots.AxesSubplot at 0x11f5353c8>"
      ]
     },
     "execution_count": 207,
     "metadata": {},
     "output_type": "execute_result"
    },
    {
     "data": {
      "image/png": "[encoded data removed]",
      "text/plain": [
       "<Figure size 864x504 with 1 Axes>"
      ]
     },
     "metadata": {
      "needs_background": "light"
     },
     "output_type": "display_data"
    }
   ],
   "source": [
    "plot_fi(fi)"
   ]
  },
  {
   "cell_type": "code",
   "execution_count": null,
   "metadata": {},
   "outputs": [],
   "source": []
  },
  {
   "cell_type": "code",
   "execution_count": 208,
   "metadata": {},
   "outputs": [
    {
     "name": "stdout",
     "output_type": "stream",
     "text": [
      "[1]\tvalid_0's l1: 0.670056\tvalid_0's l2: 1.35217\n",
      "Training until validation scores don't improve for 10 rounds.\n",
      "[2]\tvalid_0's l1: 0.655056\tvalid_0's l2: 1.30889\n",
      "[3]\tvalid_0's l1: 0.640921\tvalid_0's l2: 1.27003\n",
      "[4]\tvalid_0's l1: 0.627713\tvalid_0's l2: 1.23324\n",
      "[5]\tvalid_0's l1: 0.61575\tvalid_0's l2: 1.20147\n",
      "[6]\tvalid_0's l1: 0.604396\tvalid_0's l2: 1.17093\n",
      "[7]\tvalid_0's l1: 0.594166\tvalid_0's l2: 1.14304\n",
      "[8]\tvalid_0's l1: 0.58449\tvalid_0's l2: 1.11771\n",
      "[9]\tvalid_0's l1: 0.576042\tvalid_0's l2: 1.09672\n",
      "[10]\tvalid_0's l1: 0.568005\tvalid_0's l2: 1.07717\n",
      "[11]\tvalid_0's l1: 0.560441\tvalid_0's l2: 1.05831\n",
      "[12]\tvalid_0's l1: 0.553291\tvalid_0's l2: 1.04058\n",
      "[13]\tvalid_0's l1: 0.547188\tvalid_0's l2: 1.02514\n",
      "[14]\tvalid_0's l1: 0.541476\tvalid_0's l2: 1.01097\n",
      "[15]\tvalid_0's l1: 0.536819\tvalid_0's l2: 0.999401\n",
      "[16]\tvalid_0's l1: 0.532559\tvalid_0's l2: 0.988205\n",
      "[17]\tvalid_0's l1: 0.528081\tvalid_0's l2: 0.977143\n",
      "[18]\tvalid_0's l1: 0.524328\tvalid_0's l2: 0.967914\n",
      "[19]\tvalid_0's l1: 0.520981\tvalid_0's l2: 0.959618\n",
      "[20]\tvalid_0's l1: 0.517789\tvalid_0's l2: 0.951621\n",
      "[21]\tvalid_0's l1: 0.514486\tvalid_0's l2: 0.942725\n",
      "[22]\tvalid_0's l1: 0.511829\tvalid_0's l2: 0.935813\n",
      "[23]\tvalid_0's l1: 0.509327\tvalid_0's l2: 0.929862\n",
      "[24]\tvalid_0's l1: 0.507154\tvalid_0's l2: 0.923739\n",
      "[25]\tvalid_0's l1: 0.505031\tvalid_0's l2: 0.918464\n",
      "[26]\tvalid_0's l1: 0.50321\tvalid_0's l2: 0.9133\n",
      "[27]\tvalid_0's l1: 0.501931\tvalid_0's l2: 0.909401\n",
      "[28]\tvalid_0's l1: 0.500121\tvalid_0's l2: 0.90467\n",
      "[29]\tvalid_0's l1: 0.498606\tvalid_0's l2: 0.900425\n",
      "[30]\tvalid_0's l1: 0.497594\tvalid_0's l2: 0.89698\n",
      "[31]\tvalid_0's l1: 0.496457\tvalid_0's l2: 0.893262\n",
      "[32]\tvalid_0's l1: 0.495552\tvalid_0's l2: 0.889657\n",
      "[33]\tvalid_0's l1: 0.494445\tvalid_0's l2: 0.886562\n",
      "[34]\tvalid_0's l1: 0.4933\tvalid_0's l2: 0.884242\n",
      "[35]\tvalid_0's l1: 0.492229\tvalid_0's l2: 0.881011\n",
      "[36]\tvalid_0's l1: 0.491123\tvalid_0's l2: 0.87813\n",
      "[37]\tvalid_0's l1: 0.490498\tvalid_0's l2: 0.876232\n",
      "[38]\tvalid_0's l1: 0.489846\tvalid_0's l2: 0.873427\n",
      "[39]\tvalid_0's l1: 0.488826\tvalid_0's l2: 0.870734\n",
      "[40]\tvalid_0's l1: 0.488194\tvalid_0's l2: 0.868194\n",
      "[41]\tvalid_0's l1: 0.487449\tvalid_0's l2: 0.866418\n",
      "[42]\tvalid_0's l1: 0.487047\tvalid_0's l2: 0.864822\n",
      "[43]\tvalid_0's l1: 0.48703\tvalid_0's l2: 0.864034\n",
      "[44]\tvalid_0's l1: 0.487028\tvalid_0's l2: 0.863373\n",
      "[45]\tvalid_0's l1: 0.486676\tvalid_0's l2: 0.862159\n",
      "[46]\tvalid_0's l1: 0.486376\tvalid_0's l2: 0.860893\n",
      "[47]\tvalid_0's l1: 0.486062\tvalid_0's l2: 0.859537\n",
      "[48]\tvalid_0's l1: 0.485848\tvalid_0's l2: 0.859045\n",
      "[49]\tvalid_0's l1: 0.485627\tvalid_0's l2: 0.85792\n",
      "[50]\tvalid_0's l1: 0.485423\tvalid_0's l2: 0.857401\n",
      "[51]\tvalid_0's l1: 0.485138\tvalid_0's l2: 0.856709\n",
      "[52]\tvalid_0's l1: 0.484804\tvalid_0's l2: 0.854416\n",
      "[53]\tvalid_0's l1: 0.484792\tvalid_0's l2: 0.853281\n",
      "[54]\tvalid_0's l1: 0.484782\tvalid_0's l2: 0.852378\n",
      "[55]\tvalid_0's l1: 0.484423\tvalid_0's l2: 0.851479\n",
      "[56]\tvalid_0's l1: 0.484599\tvalid_0's l2: 0.851073\n",
      "[57]\tvalid_0's l1: 0.484221\tvalid_0's l2: 0.849948\n",
      "[58]\tvalid_0's l1: 0.484287\tvalid_0's l2: 0.849526\n",
      "[59]\tvalid_0's l1: 0.484172\tvalid_0's l2: 0.848333\n",
      "[60]\tvalid_0's l1: 0.484106\tvalid_0's l2: 0.84771\n",
      "[61]\tvalid_0's l1: 0.48429\tvalid_0's l2: 0.846878\n",
      "[62]\tvalid_0's l1: 0.484118\tvalid_0's l2: 0.846172\n",
      "[63]\tvalid_0's l1: 0.483982\tvalid_0's l2: 0.845455\n",
      "[64]\tvalid_0's l1: 0.483722\tvalid_0's l2: 0.844657\n",
      "[65]\tvalid_0's l1: 0.483796\tvalid_0's l2: 0.844324\n",
      "[66]\tvalid_0's l1: 0.483655\tvalid_0's l2: 0.844017\n",
      "[67]\tvalid_0's l1: 0.483777\tvalid_0's l2: 0.843253\n",
      "[68]\tvalid_0's l1: 0.483892\tvalid_0's l2: 0.843245\n",
      "[69]\tvalid_0's l1: 0.484052\tvalid_0's l2: 0.842791\n",
      "[70]\tvalid_0's l1: 0.484086\tvalid_0's l2: 0.842338\n",
      "[71]\tvalid_0's l1: 0.483995\tvalid_0's l2: 0.841743\n",
      "[72]\tvalid_0's l1: 0.483937\tvalid_0's l2: 0.841532\n",
      "[73]\tvalid_0's l1: 0.483827\tvalid_0's l2: 0.840971\n",
      "[74]\tvalid_0's l1: 0.483332\tvalid_0's l2: 0.83958\n",
      "[75]\tvalid_0's l1: 0.483208\tvalid_0's l2: 0.839205\n",
      "[76]\tvalid_0's l1: 0.483285\tvalid_0's l2: 0.838934\n",
      "[77]\tvalid_0's l1: 0.483452\tvalid_0's l2: 0.839015\n",
      "[78]\tvalid_0's l1: 0.483599\tvalid_0's l2: 0.838812\n",
      "[79]\tvalid_0's l1: 0.483539\tvalid_0's l2: 0.837955\n",
      "[80]\tvalid_0's l1: 0.48366\tvalid_0's l2: 0.837939\n",
      "[81]\tvalid_0's l1: 0.483679\tvalid_0's l2: 0.837762\n",
      "[82]\tvalid_0's l1: 0.483519\tvalid_0's l2: 0.837335\n",
      "[83]\tvalid_0's l1: 0.483513\tvalid_0's l2: 0.837209\n",
      "[84]\tvalid_0's l1: 0.483176\tvalid_0's l2: 0.836445\n",
      "[85]\tvalid_0's l1: 0.483102\tvalid_0's l2: 0.835588\n",
      "[86]\tvalid_0's l1: 0.483097\tvalid_0's l2: 0.83532\n",
      "[87]\tvalid_0's l1: 0.482848\tvalid_0's l2: 0.834664\n",
      "[88]\tvalid_0's l1: 0.482841\tvalid_0's l2: 0.834164\n",
      "[89]\tvalid_0's l1: 0.482642\tvalid_0's l2: 0.833083\n",
      "[90]\tvalid_0's l1: 0.482751\tvalid_0's l2: 0.832884\n",
      "[91]\tvalid_0's l1: 0.482704\tvalid_0's l2: 0.832834\n",
      "[92]\tvalid_0's l1: 0.482689\tvalid_0's l2: 0.83257\n",
      "[93]\tvalid_0's l1: 0.482586\tvalid_0's l2: 0.832081\n",
      "[94]\tvalid_0's l1: 0.482564\tvalid_0's l2: 0.832229\n",
      "[95]\tvalid_0's l1: 0.482688\tvalid_0's l2: 0.831703\n",
      "[96]\tvalid_0's l1: 0.482841\tvalid_0's l2: 0.831439\n",
      "[97]\tvalid_0's l1: 0.48299\tvalid_0's l2: 0.831259\n",
      "[98]\tvalid_0's l1: 0.48307\tvalid_0's l2: 0.830816\n",
      "[99]\tvalid_0's l1: 0.483127\tvalid_0's l2: 0.830295\n",
      "[100]\tvalid_0's l1: 0.483266\tvalid_0's l2: 0.830187\n",
      "[101]\tvalid_0's l1: 0.483289\tvalid_0's l2: 0.8297\n",
      "[102]\tvalid_0's l1: 0.483439\tvalid_0's l2: 0.829586\n",
      "[103]\tvalid_0's l1: 0.48362\tvalid_0's l2: 0.830013\n",
      "[104]\tvalid_0's l1: 0.483595\tvalid_0's l2: 0.829318\n",
      "Early stopping, best iteration is:\n",
      "[94]\tvalid_0's l1: 0.482564\tvalid_0's l2: 0.832229\n"
     ]
    }
   ],
   "source": [
    "gbm = lgb.train(params,\n",
    "                d_train,\n",
    "                num_boost_round=200,\n",
    "                valid_sets=d_valid,\n",
    "                early_stopping_rounds=10)\n"
   ]
  },
  {
   "cell_type": "code",
   "execution_count": 209,
   "metadata": {},
   "outputs": [
    {
     "data": {
      "text/html": [
       "<div>\n",
       "<style scoped>\n",
       "    .dataframe tbody tr th:only-of-type {\n",
       "        vertical-align: middle;\n",
       "    }\n",
       "\n",
       "    .dataframe tbody tr th {\n",
       "        vertical-align: top;\n",
       "    }\n",
       "\n",
       "    .dataframe thead th {\n",
       "        text-align: right;\n",
       "    }\n",
       "</style>\n",
       "<table border=\"1\" class=\"dataframe\">\n",
       "  <thead>\n",
       "    <tr style=\"text-align: right;\">\n",
       "      <th></th>\n",
       "      <th>Time from Pickup to Arrival</th>\n",
       "    </tr>\n",
       "    <tr>\n",
       "      <th>Order_No</th>\n",
       "      <th></th>\n",
       "    </tr>\n",
       "  </thead>\n",
       "  <tbody>\n",
       "    <tr>\n",
       "      <td>Order_No_19248</td>\n",
       "      <td>6.369844</td>\n",
       "    </tr>\n",
       "    <tr>\n",
       "      <td>Order_No_12736</td>\n",
       "      <td>6.236443</td>\n",
       "    </tr>\n",
       "    <tr>\n",
       "      <td>Order_No_768</td>\n",
       "      <td>5.971967</td>\n",
       "    </tr>\n",
       "    <tr>\n",
       "      <td>Order_No_15332</td>\n",
       "      <td>6.287386</td>\n",
       "    </tr>\n",
       "    <tr>\n",
       "      <td>Order_No_21373</td>\n",
       "      <td>6.287386</td>\n",
       "    </tr>\n",
       "    <tr>\n",
       "      <td>...</td>\n",
       "      <td>...</td>\n",
       "    </tr>\n",
       "    <tr>\n",
       "      <td>Order_No_3612</td>\n",
       "      <td>6.554270</td>\n",
       "    </tr>\n",
       "    <tr>\n",
       "      <td>Order_No_7657</td>\n",
       "      <td>6.504560</td>\n",
       "    </tr>\n",
       "    <tr>\n",
       "      <td>Order_No_1969</td>\n",
       "      <td>6.444369</td>\n",
       "    </tr>\n",
       "    <tr>\n",
       "      <td>Order_No_10591</td>\n",
       "      <td>6.454968</td>\n",
       "    </tr>\n",
       "    <tr>\n",
       "      <td>Order_No_1603</td>\n",
       "      <td>6.485741</td>\n",
       "    </tr>\n",
       "  </tbody>\n",
       "</table>\n",
       "<p>7068 rows × 1 columns</p>\n",
       "</div>"
      ],
      "text/plain": [
       "                Time from Pickup to Arrival\n",
       "Order_No                                   \n",
       "Order_No_19248                     6.369844\n",
       "Order_No_12736                     6.236443\n",
       "Order_No_768                       5.971967\n",
       "Order_No_15332                     6.287386\n",
       "Order_No_21373                     6.287386\n",
       "...                                     ...\n",
       "Order_No_3612                      6.554270\n",
       "Order_No_7657                      6.504560\n",
       "Order_No_1969                      6.444369\n",
       "Order_No_10591                     6.454968\n",
       "Order_No_1603                      6.485741\n",
       "\n",
       "[7068 rows x 1 columns]"
      ]
     },
     "execution_count": 209,
     "metadata": {},
     "output_type": "execute_result"
    }
   ],
   "source": [
    "create_submission(df_sample=df_sample_submission, df_test=df_test_2, model=gbm, name='lgbm12')"
   ]
  },
  {
   "cell_type": "markdown",
   "metadata": {},
   "source": [
    "#### FEATURES 3"
   ]
  },
  {
   "cell_type": "code",
   "execution_count": 210,
   "metadata": {},
   "outputs": [],
   "source": [
    "disjoint_cols = ['Rider Id','User Id','Vehicle Type', 'Pickup Lat', 'Pickup Long',\n",
    "                 'Destination Lat', 'Destination Long','Confirmation - Day of Month',\n",
    "       'Confirmation - Time', 'Confirmation - Weekday (Mo = 1)','Personal or Business','Placement - Time',\n",
    "       'Placement - Weekday (Mo = 1)', 'Platform Type','orders','dropoff_longitude',\n",
    "       'dropoff_latitude','Arrival at Pickup - Day of Month', 'Arrival at Pickup - Time',\n",
    "       'Arrival at Pickup - Weekday (Mo = 1)', 'Order No','Pickup - Day of Month', 'Pickup - Time',\n",
    "       'Pickup - Weekday (Mo = 1)', 'Placement - Day of Month','pickup_longitude', 'pickup_latitude','geometry']"
   ]
  },
  {
   "cell_type": "code",
   "execution_count": 211,
   "metadata": {},
   "outputs": [],
   "source": [
    "cols_to_select = ['Distance (KM)','Age','delay_in_pickup','unrated','Average_Rating',\n",
    "                  'Pickup Long','Pickup Lat','Destination Lat', 'Destination Long','Temperature',\n",
    "                 'pickup_hour', 'pickup_destination_traffic','Pickup - Weekday (Mo = 1)','Pickup - Day of Month',\"Time from Pickup to Arrival\"]"
   ]
  },
  {
   "cell_type": "code",
   "execution_count": 212,
   "metadata": {},
   "outputs": [],
   "source": [
    "df = df[cols_to_select]"
   ]
  },
  {
   "cell_type": "code",
   "execution_count": 213,
   "metadata": {},
   "outputs": [],
   "source": [
    "df['Pickup - Day of Month'] = df['Pickup - Day of Month'].apply(month)"
   ]
  },
  {
   "cell_type": "code",
   "execution_count": 214,
   "metadata": {
    "scrolled": true
   },
   "outputs": [
    {
     "data": {
      "text/plain": [
       "Distance (KM)                    int64\n",
       "Age                              int64\n",
       "delay_in_pickup                float64\n",
       "unrated                          int64\n",
       "Average_Rating                 float64\n",
       "Pickup Long                    float64\n",
       "Pickup Lat                     float64\n",
       "Destination Lat                float64\n",
       "Destination Long               float64\n",
       "Temperature                    float64\n",
       "pickup_hour                      int64\n",
       "pickup_destination_traffic       int64\n",
       "Pickup - Weekday (Mo = 1)        int64\n",
       "Pickup - Day of Month           object\n",
       "Time from Pickup to Arrival    float64\n",
       "dtype: object"
      ]
     },
     "execution_count": 214,
     "metadata": {},
     "output_type": "execute_result"
    }
   ],
   "source": [
    "df.dtypes"
   ]
  },
  {
   "cell_type": "code",
   "execution_count": 215,
   "metadata": {},
   "outputs": [],
   "source": [
    "cat_cols = [\"pickup_hour\",\"Pickup - Weekday (Mo = 1)\",\"Pickup - Day of Month\"]"
   ]
  },
  {
   "cell_type": "code",
   "execution_count": 216,
   "metadata": {},
   "outputs": [],
   "source": [
    "df[cat_cols] = df[cat_cols].apply(lambda x: x.astype('category'))"
   ]
  },
  {
   "cell_type": "code",
   "execution_count": 217,
   "metadata": {},
   "outputs": [
    {
     "data": {
      "text/plain": [
       "Distance (KM)                     int64\n",
       "Age                               int64\n",
       "delay_in_pickup                 float64\n",
       "unrated                           int64\n",
       "Average_Rating                  float64\n",
       "Pickup Long                     float64\n",
       "Pickup Lat                      float64\n",
       "Destination Lat                 float64\n",
       "Destination Long                float64\n",
       "Temperature                     float64\n",
       "pickup_hour                    category\n",
       "pickup_destination_traffic        int64\n",
       "Pickup - Weekday (Mo = 1)      category\n",
       "Pickup - Day of Month          category\n",
       "Time from Pickup to Arrival     float64\n",
       "dtype: object"
      ]
     },
     "execution_count": 217,
     "metadata": {},
     "output_type": "execute_result"
    }
   ],
   "source": [
    "df.dtypes"
   ]
  },
  {
   "cell_type": "code",
   "execution_count": 218,
   "metadata": {},
   "outputs": [],
   "source": [
    "import os\n",
    "os.makedirs('tmp', exist_ok=True)\n",
    "df.reset_index().to_feather('tmp/df_base')"
   ]
  },
  {
   "cell_type": "code",
   "execution_count": 251,
   "metadata": {},
   "outputs": [],
   "source": [
    "df = pd.read_feather('tmp/df_base')"
   ]
  },
  {
   "cell_type": "code",
   "execution_count": 252,
   "metadata": {},
   "outputs": [],
   "source": [
    "df[\"Time from Pickup to Arrival\"] = np.exp(df[\"Time from Pickup to Arrival\"])"
   ]
  },
  {
   "cell_type": "code",
   "execution_count": 253,
   "metadata": {},
   "outputs": [],
   "source": [
    "df = pd.get_dummies(df, columns=['Pickup - Day of Month'])"
   ]
  },
  {
   "cell_type": "code",
   "execution_count": 254,
   "metadata": {},
   "outputs": [],
   "source": [
    "df = df.drop(\"index\",axis=1)"
   ]
  },
  {
   "cell_type": "code",
   "execution_count": 255,
   "metadata": {},
   "outputs": [],
   "source": [
    "df_test = df[df['Time from Pickup to Arrival'].isnull()]"
   ]
  },
  {
   "cell_type": "code",
   "execution_count": 256,
   "metadata": {},
   "outputs": [],
   "source": [
    "df = df[df[\"Time from Pickup to Arrival\"] >= 120]"
   ]
  },
  {
   "cell_type": "code",
   "execution_count": 257,
   "metadata": {},
   "outputs": [
    {
     "data": {
      "text/html": [
       "<div>\n",
       "<style scoped>\n",
       "    .dataframe tbody tr th:only-of-type {\n",
       "        vertical-align: middle;\n",
       "    }\n",
       "\n",
       "    .dataframe tbody tr th {\n",
       "        vertical-align: top;\n",
       "    }\n",
       "\n",
       "    .dataframe thead th {\n",
       "        text-align: right;\n",
       "    }\n",
       "</style>\n",
       "<table border=\"1\" class=\"dataframe\">\n",
       "  <thead>\n",
       "    <tr style=\"text-align: right;\">\n",
       "      <th></th>\n",
       "      <th>Distance (KM)</th>\n",
       "      <th>Age</th>\n",
       "      <th>delay_in_pickup</th>\n",
       "      <th>unrated</th>\n",
       "      <th>Average_Rating</th>\n",
       "      <th>Pickup Long</th>\n",
       "      <th>Pickup Lat</th>\n",
       "      <th>Destination Lat</th>\n",
       "      <th>Destination Long</th>\n",
       "      <th>Temperature</th>\n",
       "      <th>pickup_hour</th>\n",
       "      <th>pickup_destination_traffic</th>\n",
       "      <th>Pickup - Weekday (Mo = 1)</th>\n",
       "      <th>Time from Pickup to Arrival</th>\n",
       "      <th>Pickup - Day of Month_beg_month</th>\n",
       "      <th>Pickup - Day of Month_endmonth</th>\n",
       "    </tr>\n",
       "  </thead>\n",
       "  <tbody>\n",
       "    <tr>\n",
       "      <td>1</td>\n",
       "      <td>4</td>\n",
       "      <td>771</td>\n",
       "      <td>162.0</td>\n",
       "      <td>967</td>\n",
       "      <td>14.1</td>\n",
       "      <td>36.796911</td>\n",
       "      <td>-1.274173</td>\n",
       "      <td>-1.265971</td>\n",
       "      <td>36.766806</td>\n",
       "      <td>21.800000</td>\n",
       "      <td>12</td>\n",
       "      <td>1</td>\n",
       "      <td>2</td>\n",
       "      <td>729.0</td>\n",
       "      <td>1</td>\n",
       "      <td>0</td>\n",
       "    </tr>\n",
       "    <tr>\n",
       "      <td>2</td>\n",
       "      <td>16</td>\n",
       "      <td>941</td>\n",
       "      <td>158.0</td>\n",
       "      <td>3698</td>\n",
       "      <td>14.1</td>\n",
       "      <td>36.828195</td>\n",
       "      <td>-1.300921</td>\n",
       "      <td>-1.388201</td>\n",
       "      <td>36.769945</td>\n",
       "      <td>23.255689</td>\n",
       "      <td>10</td>\n",
       "      <td>108</td>\n",
       "      <td>4</td>\n",
       "      <td>1923.0</td>\n",
       "      <td>0</td>\n",
       "      <td>1</td>\n",
       "    </tr>\n",
       "    <tr>\n",
       "      <td>3</td>\n",
       "      <td>15</td>\n",
       "      <td>1317</td>\n",
       "      <td>7.0</td>\n",
       "      <td>2166</td>\n",
       "      <td>14.3</td>\n",
       "      <td>36.828195</td>\n",
       "      <td>-1.300921</td>\n",
       "      <td>-1.388201</td>\n",
       "      <td>36.769945</td>\n",
       "      <td>18.300000</td>\n",
       "      <td>10</td>\n",
       "      <td>108</td>\n",
       "      <td>1</td>\n",
       "      <td>1392.0</td>\n",
       "      <td>0</td>\n",
       "      <td>1</td>\n",
       "    </tr>\n",
       "    <tr>\n",
       "      <td>4</td>\n",
       "      <td>16</td>\n",
       "      <td>1884</td>\n",
       "      <td>1415.0</td>\n",
       "      <td>2683</td>\n",
       "      <td>14.2</td>\n",
       "      <td>36.828195</td>\n",
       "      <td>-1.300921</td>\n",
       "      <td>-1.388201</td>\n",
       "      <td>36.769945</td>\n",
       "      <td>27.800000</td>\n",
       "      <td>14</td>\n",
       "      <td>108</td>\n",
       "      <td>4</td>\n",
       "      <td>1416.0</td>\n",
       "      <td>1</td>\n",
       "      <td>0</td>\n",
       "    </tr>\n",
       "    <tr>\n",
       "      <td>7</td>\n",
       "      <td>15</td>\n",
       "      <td>1120</td>\n",
       "      <td>227.0</td>\n",
       "      <td>3751</td>\n",
       "      <td>14.1</td>\n",
       "      <td>36.828195</td>\n",
       "      <td>-1.300921</td>\n",
       "      <td>-1.388201</td>\n",
       "      <td>36.769945</td>\n",
       "      <td>25.700000</td>\n",
       "      <td>10</td>\n",
       "      <td>108</td>\n",
       "      <td>6</td>\n",
       "      <td>1962.0</td>\n",
       "      <td>0</td>\n",
       "      <td>1</td>\n",
       "    </tr>\n",
       "  </tbody>\n",
       "</table>\n",
       "</div>"
      ],
      "text/plain": [
       "   Distance (KM)   Age  delay_in_pickup  unrated  Average_Rating  Pickup Long  \\\n",
       "1              4   771            162.0      967            14.1    36.796911   \n",
       "2             16   941            158.0     3698            14.1    36.828195   \n",
       "3             15  1317              7.0     2166            14.3    36.828195   \n",
       "4             16  1884           1415.0     2683            14.2    36.828195   \n",
       "7             15  1120            227.0     3751            14.1    36.828195   \n",
       "\n",
       "   Pickup Lat  Destination Lat  Destination Long  Temperature pickup_hour  \\\n",
       "1   -1.274173        -1.265971         36.766806    21.800000          12   \n",
       "2   -1.300921        -1.388201         36.769945    23.255689          10   \n",
       "3   -1.300921        -1.388201         36.769945    18.300000          10   \n",
       "4   -1.300921        -1.388201         36.769945    27.800000          14   \n",
       "7   -1.300921        -1.388201         36.769945    25.700000          10   \n",
       "\n",
       "   pickup_destination_traffic Pickup - Weekday (Mo = 1)  \\\n",
       "1                           1                         2   \n",
       "2                         108                         4   \n",
       "3                         108                         1   \n",
       "4                         108                         4   \n",
       "7                         108                         6   \n",
       "\n",
       "   Time from Pickup to Arrival  Pickup - Day of Month_beg_month  \\\n",
       "1                        729.0                                1   \n",
       "2                       1923.0                                0   \n",
       "3                       1392.0                                0   \n",
       "4                       1416.0                                1   \n",
       "7                       1962.0                                0   \n",
       "\n",
       "   Pickup - Day of Month_endmonth  \n",
       "1                               0  \n",
       "2                               1  \n",
       "3                               1  \n",
       "4                               0  \n",
       "7                               1  "
      ]
     },
     "execution_count": 257,
     "metadata": {},
     "output_type": "execute_result"
    }
   ],
   "source": [
    "df.head()"
   ]
  },
  {
   "cell_type": "code",
   "execution_count": 258,
   "metadata": {},
   "outputs": [
    {
     "data": {
      "text/plain": [
       "((20379, 16), (7068, 16))"
      ]
     },
     "execution_count": 258,
     "metadata": {},
     "output_type": "execute_result"
    }
   ],
   "source": [
    "df_train = df[df['Time from Pickup to Arrival'].notnull()]\n",
    "df_train.shape,df_test.shape"
   ]
  },
  {
   "cell_type": "code",
   "execution_count": 259,
   "metadata": {},
   "outputs": [],
   "source": [
    "from sklearn.linear_model import HuberRegressor,SGDRegressor,ElasticNet, Ridge,LinearRegression\n",
    "from sklearn.neighbors import KNeighborsRegressor\n",
    "from sklearn.ensemble import RandomForestRegressor, ExtraTreesRegressor,GradientBoostingRegressor\n",
    "from xgboost.sklearn import XGBRegressor\n",
    "from lightgbm.sklearn import LGBMRegressor\n",
    "from catboost import CatBoostRegressor, Pool\n",
    "from sklearn.model_selection import GridSearchCV\n",
    "from sklearn.preprocessing import RobustScaler\n",
    "from sklearn.metrics import mean_squared_error\n",
    "from sklearn.model_selection import train_test_split, KFold,cross_val_score"
   ]
  },
  {
   "cell_type": "code",
   "execution_count": 260,
   "metadata": {},
   "outputs": [],
   "source": [
    "def rmse(y_true,y_preds,extras=None):\n",
    "    return np.sqrt(mean_squared_error(y_true,y_preds))\n",
    "\n",
    "def rmsle_cv(model,train,y_train,n_folds=5):\n",
    "    kf = KFold(n_folds, shuffle=True, random_state=42).get_n_splits(train.values)\n",
    "    rmse= np.sqrt(-cross_val_score(model, train.values, y_train, scoring=\"neg_mean_squared_error\", cv = kf))\n",
    "    return(np.mean(rmse))\n",
    "\n",
    "def benchmark_model(train_x,train_y):\n",
    "    for Model in [RandomForestRegressor, ExtraTreesRegressor, GradientBoostingRegressor,XGBRegressor,LGBMRegressor, ElasticNet, LinearRegression,HuberRegressor]:\n",
    "        model = Model()\n",
    "        model_name = model.__class__.__name__\n",
    "        err = rmsle_cv(model,train_x,train_y)\n",
    "        print(f\"{model_name} :  cross val loss => {err}\")"
   ]
  },
  {
   "cell_type": "code",
   "execution_count": 261,
   "metadata": {},
   "outputs": [],
   "source": [
    "X_train, X_test, y_train, y_test = train_test_split(\n",
    "    df_train.drop([\"Time from Pickup to Arrival\"],axis=1), df_train['Time from Pickup to Arrival'], test_size=0.30, random_state=42)"
   ]
  },
  {
   "cell_type": "code",
   "execution_count": 262,
   "metadata": {},
   "outputs": [
    {
     "name": "stderr",
     "output_type": "stream",
     "text": [
      "/Users/socrates/anaconda3/lib/python3.7/site-packages/sklearn/ensemble/forest.py:245: FutureWarning: The default value of n_estimators will change from 10 in version 0.20 to 100 in 0.22.\n",
      "  \"10 in version 0.20 to 100 in 0.22.\", FutureWarning)\n",
      "/Users/socrates/anaconda3/lib/python3.7/site-packages/sklearn/ensemble/forest.py:245: FutureWarning: The default value of n_estimators will change from 10 in version 0.20 to 100 in 0.22.\n",
      "  \"10 in version 0.20 to 100 in 0.22.\", FutureWarning)\n",
      "/Users/socrates/anaconda3/lib/python3.7/site-packages/sklearn/ensemble/forest.py:245: FutureWarning: The default value of n_estimators will change from 10 in version 0.20 to 100 in 0.22.\n",
      "  \"10 in version 0.20 to 100 in 0.22.\", FutureWarning)\n",
      "/Users/socrates/anaconda3/lib/python3.7/site-packages/sklearn/ensemble/forest.py:245: FutureWarning: The default value of n_estimators will change from 10 in version 0.20 to 100 in 0.22.\n",
      "  \"10 in version 0.20 to 100 in 0.22.\", FutureWarning)\n",
      "/Users/socrates/anaconda3/lib/python3.7/site-packages/sklearn/ensemble/forest.py:245: FutureWarning: The default value of n_estimators will change from 10 in version 0.20 to 100 in 0.22.\n",
      "  \"10 in version 0.20 to 100 in 0.22.\", FutureWarning)\n"
     ]
    },
    {
     "name": "stdout",
     "output_type": "stream",
     "text": [
      "RandomForestRegressor :  cross val loss => 790.5076776196693\n"
     ]
    },
    {
     "name": "stderr",
     "output_type": "stream",
     "text": [
      "/Users/socrates/anaconda3/lib/python3.7/site-packages/sklearn/ensemble/forest.py:245: FutureWarning: The default value of n_estimators will change from 10 in version 0.20 to 100 in 0.22.\n",
      "  \"10 in version 0.20 to 100 in 0.22.\", FutureWarning)\n",
      "/Users/socrates/anaconda3/lib/python3.7/site-packages/sklearn/ensemble/forest.py:245: FutureWarning: The default value of n_estimators will change from 10 in version 0.20 to 100 in 0.22.\n",
      "  \"10 in version 0.20 to 100 in 0.22.\", FutureWarning)\n",
      "/Users/socrates/anaconda3/lib/python3.7/site-packages/sklearn/ensemble/forest.py:245: FutureWarning: The default value of n_estimators will change from 10 in version 0.20 to 100 in 0.22.\n",
      "  \"10 in version 0.20 to 100 in 0.22.\", FutureWarning)\n",
      "/Users/socrates/anaconda3/lib/python3.7/site-packages/sklearn/ensemble/forest.py:245: FutureWarning: The default value of n_estimators will change from 10 in version 0.20 to 100 in 0.22.\n",
      "  \"10 in version 0.20 to 100 in 0.22.\", FutureWarning)\n",
      "/Users/socrates/anaconda3/lib/python3.7/site-packages/sklearn/ensemble/forest.py:245: FutureWarning: The default value of n_estimators will change from 10 in version 0.20 to 100 in 0.22.\n",
      "  \"10 in version 0.20 to 100 in 0.22.\", FutureWarning)\n"
     ]
    },
    {
     "name": "stdout",
     "output_type": "stream",
     "text": [
      "ExtraTreesRegressor :  cross val loss => 791.5702158060127\n",
      "GradientBoostingRegressor :  cross val loss => 736.7881505526966\n",
      "[05:11:31] WARNING: /usr/local/miniconda/conda-bld/xgboost_1572315027083/work/src/objective/regression_obj.cu:152: reg:linear is now deprecated in favor of reg:squarederror.\n"
     ]
    },
    {
     "name": "stderr",
     "output_type": "stream",
     "text": [
      "/Users/socrates/anaconda3/lib/python3.7/site-packages/xgboost/core.py:587: FutureWarning: Series.base is deprecated and will be removed in a future version\n",
      "  if getattr(data, 'base', None) is not None and \\\n",
      "/Users/socrates/anaconda3/lib/python3.7/site-packages/xgboost/core.py:587: FutureWarning: Series.base is deprecated and will be removed in a future version\n",
      "  if getattr(data, 'base', None) is not None and \\\n"
     ]
    },
    {
     "name": "stdout",
     "output_type": "stream",
     "text": [
      "[05:11:32] WARNING: /usr/local/miniconda/conda-bld/xgboost_1572315027083/work/src/objective/regression_obj.cu:152: reg:linear is now deprecated in favor of reg:squarederror.\n"
     ]
    },
    {
     "name": "stderr",
     "output_type": "stream",
     "text": [
      "/Users/socrates/anaconda3/lib/python3.7/site-packages/xgboost/core.py:587: FutureWarning: Series.base is deprecated and will be removed in a future version\n",
      "  if getattr(data, 'base', None) is not None and \\\n"
     ]
    },
    {
     "name": "stdout",
     "output_type": "stream",
     "text": [
      "[05:11:33] WARNING: /usr/local/miniconda/conda-bld/xgboost_1572315027083/work/src/objective/regression_obj.cu:152: reg:linear is now deprecated in favor of reg:squarederror.\n"
     ]
    },
    {
     "name": "stderr",
     "output_type": "stream",
     "text": [
      "/Users/socrates/anaconda3/lib/python3.7/site-packages/xgboost/core.py:587: FutureWarning: Series.base is deprecated and will be removed in a future version\n",
      "  if getattr(data, 'base', None) is not None and \\\n"
     ]
    },
    {
     "name": "stdout",
     "output_type": "stream",
     "text": [
      "[05:11:34] WARNING: /usr/local/miniconda/conda-bld/xgboost_1572315027083/work/src/objective/regression_obj.cu:152: reg:linear is now deprecated in favor of reg:squarederror.\n"
     ]
    },
    {
     "name": "stderr",
     "output_type": "stream",
     "text": [
      "/Users/socrates/anaconda3/lib/python3.7/site-packages/xgboost/core.py:587: FutureWarning: Series.base is deprecated and will be removed in a future version\n",
      "  if getattr(data, 'base', None) is not None and \\\n"
     ]
    },
    {
     "name": "stdout",
     "output_type": "stream",
     "text": [
      "[05:11:35] WARNING: /usr/local/miniconda/conda-bld/xgboost_1572315027083/work/src/objective/regression_obj.cu:152: reg:linear is now deprecated in favor of reg:squarederror.\n",
      "XGBRegressor :  cross val loss => 735.1829911643284\n",
      "LGBMRegressor :  cross val loss => 728.7031276517512\n",
      "ElasticNet :  cross val loss => 758.5688691775658\n",
      "LinearRegression :  cross val loss => 757.1053900021659\n",
      "HuberRegressor :  cross val loss => 781.1608043016738\n"
     ]
    }
   ],
   "source": [
    "benchmark_model(train_x=X_train,train_y=y_train)"
   ]
  },
  {
   "cell_type": "code",
   "execution_count": 263,
   "metadata": {},
   "outputs": [],
   "source": [
    "def print_score(m):\n",
    "    res = [\n",
    "        rmse(m.predict(X_train), y_train),\n",
    "        rmse(m.predict(X_test), y_test),\n",
    "        m.score(X_train, y_train),\n",
    "        m.score(X_test, y_test),\n",
    "    ]\n",
    "    if hasattr(m, \"oob_score_\"):\n",
    "        res.append(m.oob_score_)\n",
    "    print(res)"
   ]
  },
  {
   "cell_type": "code",
   "execution_count": 264,
   "metadata": {},
   "outputs": [
    {
     "name": "stdout",
     "output_type": "stream",
     "text": [
      "[448.54464559738545, 757.4185587107744, 0.7748759323716774, 0.4042035117775056, 0.36405715097039126]\n"
     ]
    }
   ],
   "source": [
    "m = RandomForestRegressor(n_estimators=40, min_samples_leaf=3, max_features=0.5, n_jobs=-1, oob_score=True)\n",
    "m.fit(X_train, y_train)\n",
    "print_score(m)"
   ]
  },
  {
   "cell_type": "code",
   "execution_count": 265,
   "metadata": {},
   "outputs": [],
   "source": [
    "fi = rf_feat_importance(m,X_train)"
   ]
  },
  {
   "cell_type": "code",
   "execution_count": 266,
   "metadata": {},
   "outputs": [
    {
     "data": {
      "text/plain": [
       "<matplotlib.axes._subplots.AxesSubplot at 0x130c5d7b8>"
      ]
     },
     "execution_count": 266,
     "metadata": {},
     "output_type": "execute_result"
    },
    {
     "data": {
      "image/png": "[encoded data removed]",
      "text/plain": [
       "<Figure size 864x504 with 1 Axes>"
      ]
     },
     "metadata": {
      "needs_background": "light"
     },
     "output_type": "display_data"
    }
   ],
   "source": [
    "plot_fi(fi)"
   ]
  },
  {
   "cell_type": "code",
   "execution_count": 267,
   "metadata": {},
   "outputs": [],
   "source": [
    "import lightgbm as lgb\n",
    "params = {\n",
    "    'boosting_type': 'gbdt',\n",
    "    'objective': 'regression',\n",
    "    'metric': {'l2', 'l1'},\n",
    "    'num_leaves': 31,\n",
    "    'learning_rate': 0.05,\n",
    "    'feature_fraction': 0.9,\n",
    "    'bagging_fraction': 0.8,\n",
    "    'bagging_freq': 5,\n",
    "    'verbose': 0\n",
    "}\n",
    "d_train = lgb.Dataset(X_train, label=y_train)\n",
    "d_valid = lgb.Dataset(X_test, label=y_test)"
   ]
  },
  {
   "cell_type": "code",
   "execution_count": 268,
   "metadata": {},
   "outputs": [
    {
     "name": "stderr",
     "output_type": "stream",
     "text": [
      "/Users/socrates/anaconda3/lib/python3.7/site-packages/lightgbm/basic.py:762: UserWarning: categorical_feature in param dict is overridden.\n",
      "  warnings.warn('categorical_feature in param dict is overridden.')\n"
     ]
    },
    {
     "name": "stdout",
     "output_type": "stream",
     "text": [
      "[1]\tvalid_0's l1: 725.812\tvalid_0's l2: 929920\n",
      "Training until validation scores don't improve for 6 rounds.\n",
      "[2]\tvalid_0's l1: 711.141\tvalid_0's l2: 899575\n",
      "[3]\tvalid_0's l1: 697.613\tvalid_0's l2: 872104\n",
      "[4]\tvalid_0's l1: 684.703\tvalid_0's l2: 846570\n",
      "[5]\tvalid_0's l1: 672.993\tvalid_0's l2: 823908\n",
      "[6]\tvalid_0's l1: 661.855\tvalid_0's l2: 802761\n",
      "[7]\tvalid_0's l1: 651.613\tvalid_0's l2: 783869\n",
      "[8]\tvalid_0's l1: 642.161\tvalid_0's l2: 766730\n",
      "[9]\tvalid_0's l1: 635.493\tvalid_0's l2: 755229\n",
      "[10]\tvalid_0's l1: 626.952\tvalid_0's l2: 740261\n",
      "[11]\tvalid_0's l1: 619.354\tvalid_0's l2: 726997\n",
      "[12]\tvalid_0's l1: 612.32\tvalid_0's l2: 715124\n",
      "[13]\tvalid_0's l1: 605.808\tvalid_0's l2: 704203\n",
      "[14]\tvalid_0's l1: 599.718\tvalid_0's l2: 694116\n",
      "[15]\tvalid_0's l1: 594.29\tvalid_0's l2: 684978\n",
      "[16]\tvalid_0's l1: 588.947\tvalid_0's l2: 676033\n",
      "[17]\tvalid_0's l1: 584.133\tvalid_0's l2: 668260\n",
      "[18]\tvalid_0's l1: 579.69\tvalid_0's l2: 661136\n",
      "[19]\tvalid_0's l1: 576.527\tvalid_0's l2: 656144\n",
      "[20]\tvalid_0's l1: 572.714\tvalid_0's l2: 649905\n",
      "[21]\tvalid_0's l1: 569.287\tvalid_0's l2: 644365\n",
      "[22]\tvalid_0's l1: 565.949\tvalid_0's l2: 639212\n",
      "[23]\tvalid_0's l1: 563.994\tvalid_0's l2: 636204\n",
      "[24]\tvalid_0's l1: 560.906\tvalid_0's l2: 631399\n",
      "[25]\tvalid_0's l1: 558.187\tvalid_0's l2: 627246\n",
      "[26]\tvalid_0's l1: 555.593\tvalid_0's l2: 623547\n",
      "[27]\tvalid_0's l1: 553.163\tvalid_0's l2: 620023\n",
      "[28]\tvalid_0's l1: 550.896\tvalid_0's l2: 616779\n",
      "[29]\tvalid_0's l1: 548.716\tvalid_0's l2: 613633\n",
      "[30]\tvalid_0's l1: 546.606\tvalid_0's l2: 610417\n",
      "[31]\tvalid_0's l1: 544.747\tvalid_0's l2: 607981\n",
      "[32]\tvalid_0's l1: 543.074\tvalid_0's l2: 605784\n",
      "[33]\tvalid_0's l1: 541.554\tvalid_0's l2: 603904\n",
      "[34]\tvalid_0's l1: 540.199\tvalid_0's l2: 601945\n",
      "[35]\tvalid_0's l1: 538.702\tvalid_0's l2: 600129\n",
      "[36]\tvalid_0's l1: 537.157\tvalid_0's l2: 598268\n",
      "[37]\tvalid_0's l1: 535.793\tvalid_0's l2: 596638\n",
      "[38]\tvalid_0's l1: 535.285\tvalid_0's l2: 595818\n",
      "[39]\tvalid_0's l1: 534.268\tvalid_0's l2: 594532\n",
      "[40]\tvalid_0's l1: 533.525\tvalid_0's l2: 593337\n",
      "[41]\tvalid_0's l1: 532.384\tvalid_0's l2: 591804\n",
      "[42]\tvalid_0's l1: 531.209\tvalid_0's l2: 590249\n",
      "[43]\tvalid_0's l1: 530.036\tvalid_0's l2: 588524\n",
      "[44]\tvalid_0's l1: 529.553\tvalid_0's l2: 588014\n",
      "[45]\tvalid_0's l1: 528.996\tvalid_0's l2: 587068\n",
      "[46]\tvalid_0's l1: 528.1\tvalid_0's l2: 586084\n",
      "[47]\tvalid_0's l1: 527.409\tvalid_0's l2: 585276\n",
      "[48]\tvalid_0's l1: 526.631\tvalid_0's l2: 584436\n",
      "[49]\tvalid_0's l1: 526.067\tvalid_0's l2: 583794\n",
      "[50]\tvalid_0's l1: 525.286\tvalid_0's l2: 582535\n",
      "[51]\tvalid_0's l1: 524.581\tvalid_0's l2: 581328\n",
      "[52]\tvalid_0's l1: 524.024\tvalid_0's l2: 580618\n",
      "[53]\tvalid_0's l1: 523.57\tvalid_0's l2: 579959\n",
      "[54]\tvalid_0's l1: 523.078\tvalid_0's l2: 579036\n",
      "[55]\tvalid_0's l1: 522.68\tvalid_0's l2: 578324\n",
      "[56]\tvalid_0's l1: 522.243\tvalid_0's l2: 577769\n",
      "[57]\tvalid_0's l1: 521.688\tvalid_0's l2: 577091\n",
      "[58]\tvalid_0's l1: 521.191\tvalid_0's l2: 576506\n",
      "[59]\tvalid_0's l1: 520.858\tvalid_0's l2: 575986\n",
      "[60]\tvalid_0's l1: 520.655\tvalid_0's l2: 575676\n",
      "[61]\tvalid_0's l1: 520.38\tvalid_0's l2: 575371\n",
      "[62]\tvalid_0's l1: 520.061\tvalid_0's l2: 574886\n",
      "[63]\tvalid_0's l1: 519.562\tvalid_0's l2: 574154\n",
      "[64]\tvalid_0's l1: 519.066\tvalid_0's l2: 573436\n",
      "[65]\tvalid_0's l1: 518.677\tvalid_0's l2: 573028\n",
      "[66]\tvalid_0's l1: 518.291\tvalid_0's l2: 572460\n",
      "[67]\tvalid_0's l1: 518.021\tvalid_0's l2: 572154\n",
      "[68]\tvalid_0's l1: 517.698\tvalid_0's l2: 571948\n",
      "[69]\tvalid_0's l1: 517.345\tvalid_0's l2: 571541\n",
      "[70]\tvalid_0's l1: 517.152\tvalid_0's l2: 571506\n",
      "[71]\tvalid_0's l1: 517.039\tvalid_0's l2: 571270\n",
      "[72]\tvalid_0's l1: 516.783\tvalid_0's l2: 570928\n",
      "[73]\tvalid_0's l1: 516.653\tvalid_0's l2: 570735\n",
      "[74]\tvalid_0's l1: 516.491\tvalid_0's l2: 570625\n",
      "[75]\tvalid_0's l1: 516.27\tvalid_0's l2: 570191\n",
      "[76]\tvalid_0's l1: 516.057\tvalid_0's l2: 569997\n",
      "[77]\tvalid_0's l1: 515.813\tvalid_0's l2: 569880\n",
      "[78]\tvalid_0's l1: 515.549\tvalid_0's l2: 569614\n",
      "[79]\tvalid_0's l1: 515.428\tvalid_0's l2: 569431\n",
      "[80]\tvalid_0's l1: 515.242\tvalid_0's l2: 569308\n",
      "[81]\tvalid_0's l1: 514.981\tvalid_0's l2: 568964\n",
      "[82]\tvalid_0's l1: 514.737\tvalid_0's l2: 568673\n",
      "[83]\tvalid_0's l1: 514.539\tvalid_0's l2: 568529\n",
      "[84]\tvalid_0's l1: 514.254\tvalid_0's l2: 568202\n",
      "[85]\tvalid_0's l1: 514.044\tvalid_0's l2: 567927\n",
      "[86]\tvalid_0's l1: 513.984\tvalid_0's l2: 567938\n",
      "[87]\tvalid_0's l1: 513.981\tvalid_0's l2: 567719\n",
      "[88]\tvalid_0's l1: 513.744\tvalid_0's l2: 567253\n",
      "[89]\tvalid_0's l1: 513.709\tvalid_0's l2: 567075\n",
      "[90]\tvalid_0's l1: 513.628\tvalid_0's l2: 567059\n",
      "[91]\tvalid_0's l1: 513.556\tvalid_0's l2: 566766\n",
      "[92]\tvalid_0's l1: 513.381\tvalid_0's l2: 566291\n",
      "[93]\tvalid_0's l1: 513.258\tvalid_0's l2: 566087\n",
      "[94]\tvalid_0's l1: 513.247\tvalid_0's l2: 565918\n",
      "[95]\tvalid_0's l1: 513.108\tvalid_0's l2: 565639\n",
      "[96]\tvalid_0's l1: 513.036\tvalid_0's l2: 565479\n",
      "[97]\tvalid_0's l1: 512.87\tvalid_0's l2: 565204\n",
      "[98]\tvalid_0's l1: 512.805\tvalid_0's l2: 565079\n",
      "[99]\tvalid_0's l1: 512.669\tvalid_0's l2: 564948\n",
      "[100]\tvalid_0's l1: 512.683\tvalid_0's l2: 565048\n",
      "[101]\tvalid_0's l1: 512.435\tvalid_0's l2: 564563\n",
      "[102]\tvalid_0's l1: 512.28\tvalid_0's l2: 564276\n",
      "[103]\tvalid_0's l1: 512.308\tvalid_0's l2: 564281\n",
      "[104]\tvalid_0's l1: 512.21\tvalid_0's l2: 564018\n",
      "[105]\tvalid_0's l1: 512.022\tvalid_0's l2: 563749\n",
      "[106]\tvalid_0's l1: 511.837\tvalid_0's l2: 563518\n",
      "[107]\tvalid_0's l1: 511.811\tvalid_0's l2: 563563\n",
      "[108]\tvalid_0's l1: 511.667\tvalid_0's l2: 563364\n",
      "[109]\tvalid_0's l1: 511.529\tvalid_0's l2: 563215\n",
      "[110]\tvalid_0's l1: 511.315\tvalid_0's l2: 562894\n",
      "[111]\tvalid_0's l1: 511.273\tvalid_0's l2: 562932\n",
      "[112]\tvalid_0's l1: 511.255\tvalid_0's l2: 562885\n",
      "[113]\tvalid_0's l1: 511.218\tvalid_0's l2: 562631\n",
      "[114]\tvalid_0's l1: 511.116\tvalid_0's l2: 562477\n",
      "[115]\tvalid_0's l1: 510.876\tvalid_0's l2: 562157\n",
      "[116]\tvalid_0's l1: 510.873\tvalid_0's l2: 562280\n",
      "[117]\tvalid_0's l1: 510.848\tvalid_0's l2: 562357\n",
      "[118]\tvalid_0's l1: 510.717\tvalid_0's l2: 562216\n",
      "[119]\tvalid_0's l1: 510.662\tvalid_0's l2: 562239\n",
      "[120]\tvalid_0's l1: 510.594\tvalid_0's l2: 562223\n",
      "[121]\tvalid_0's l1: 510.48\tvalid_0's l2: 561976\n",
      "[122]\tvalid_0's l1: 510.45\tvalid_0's l2: 561823\n",
      "[123]\tvalid_0's l1: 510.367\tvalid_0's l2: 561585\n",
      "[124]\tvalid_0's l1: 510.392\tvalid_0's l2: 561409\n",
      "[125]\tvalid_0's l1: 510.336\tvalid_0's l2: 561344\n",
      "[126]\tvalid_0's l1: 510.244\tvalid_0's l2: 561197\n",
      "[127]\tvalid_0's l1: 510.125\tvalid_0's l2: 561093\n",
      "[128]\tvalid_0's l1: 510.119\tvalid_0's l2: 561100\n",
      "[129]\tvalid_0's l1: 510.002\tvalid_0's l2: 560901\n",
      "[130]\tvalid_0's l1: 509.936\tvalid_0's l2: 560869\n",
      "[131]\tvalid_0's l1: 509.816\tvalid_0's l2: 560719\n",
      "[132]\tvalid_0's l1: 509.708\tvalid_0's l2: 560706\n",
      "[133]\tvalid_0's l1: 509.591\tvalid_0's l2: 560608\n",
      "[134]\tvalid_0's l1: 509.46\tvalid_0's l2: 560405\n",
      "[135]\tvalid_0's l1: 509.415\tvalid_0's l2: 560391\n",
      "[136]\tvalid_0's l1: 509.179\tvalid_0's l2: 560138\n",
      "[137]\tvalid_0's l1: 509.125\tvalid_0's l2: 560327\n",
      "[138]\tvalid_0's l1: 508.938\tvalid_0's l2: 560095\n",
      "[139]\tvalid_0's l1: 508.881\tvalid_0's l2: 560209\n",
      "[140]\tvalid_0's l1: 508.97\tvalid_0's l2: 560344\n",
      "[141]\tvalid_0's l1: 508.754\tvalid_0's l2: 560036\n",
      "[142]\tvalid_0's l1: 508.606\tvalid_0's l2: 559857\n",
      "[143]\tvalid_0's l1: 508.504\tvalid_0's l2: 559731\n",
      "[144]\tvalid_0's l1: 508.383\tvalid_0's l2: 559497\n",
      "[145]\tvalid_0's l1: 508.264\tvalid_0's l2: 559394\n",
      "[146]\tvalid_0's l1: 508.273\tvalid_0's l2: 559472\n",
      "[147]\tvalid_0's l1: 508.083\tvalid_0's l2: 559361\n",
      "[148]\tvalid_0's l1: 508.007\tvalid_0's l2: 559284\n",
      "[149]\tvalid_0's l1: 507.922\tvalid_0's l2: 559293\n",
      "[150]\tvalid_0's l1: 507.811\tvalid_0's l2: 559086\n",
      "[151]\tvalid_0's l1: 507.714\tvalid_0's l2: 558818\n",
      "[152]\tvalid_0's l1: 507.605\tvalid_0's l2: 558497\n",
      "[153]\tvalid_0's l1: 507.667\tvalid_0's l2: 558544\n",
      "[154]\tvalid_0's l1: 507.583\tvalid_0's l2: 558271\n",
      "[155]\tvalid_0's l1: 507.54\tvalid_0's l2: 558149\n",
      "[156]\tvalid_0's l1: 507.605\tvalid_0's l2: 558141\n",
      "[157]\tvalid_0's l1: 507.649\tvalid_0's l2: 558267\n",
      "[158]\tvalid_0's l1: 507.587\tvalid_0's l2: 558049\n",
      "[159]\tvalid_0's l1: 507.608\tvalid_0's l2: 558062\n",
      "[160]\tvalid_0's l1: 507.574\tvalid_0's l2: 557937\n",
      "[161]\tvalid_0's l1: 507.526\tvalid_0's l2: 557606\n",
      "[162]\tvalid_0's l1: 507.588\tvalid_0's l2: 557414\n",
      "[163]\tvalid_0's l1: 507.733\tvalid_0's l2: 557450\n",
      "[164]\tvalid_0's l1: 507.666\tvalid_0's l2: 557130\n",
      "[165]\tvalid_0's l1: 507.551\tvalid_0's l2: 556800\n",
      "[166]\tvalid_0's l1: 507.517\tvalid_0's l2: 556832\n",
      "[167]\tvalid_0's l1: 507.479\tvalid_0's l2: 556840\n",
      "[168]\tvalid_0's l1: 507.518\tvalid_0's l2: 556938\n",
      "[169]\tvalid_0's l1: 507.457\tvalid_0's l2: 556937\n",
      "[170]\tvalid_0's l1: 507.403\tvalid_0's l2: 556987\n",
      "[171]\tvalid_0's l1: 507.227\tvalid_0's l2: 556712\n",
      "[172]\tvalid_0's l1: 507.071\tvalid_0's l2: 556576\n",
      "[173]\tvalid_0's l1: 506.967\tvalid_0's l2: 556410\n",
      "[174]\tvalid_0's l1: 506.924\tvalid_0's l2: 556352\n",
      "[175]\tvalid_0's l1: 506.895\tvalid_0's l2: 556157\n",
      "[176]\tvalid_0's l1: 506.887\tvalid_0's l2: 556076\n",
      "[177]\tvalid_0's l1: 506.882\tvalid_0's l2: 556098\n",
      "[178]\tvalid_0's l1: 506.774\tvalid_0's l2: 556002\n",
      "[179]\tvalid_0's l1: 506.809\tvalid_0's l2: 556073\n",
      "[180]\tvalid_0's l1: 506.779\tvalid_0's l2: 556086\n",
      "[181]\tvalid_0's l1: 506.655\tvalid_0's l2: 556061\n",
      "[182]\tvalid_0's l1: 506.465\tvalid_0's l2: 555695\n",
      "[183]\tvalid_0's l1: 506.352\tvalid_0's l2: 555691\n",
      "[184]\tvalid_0's l1: 506.343\tvalid_0's l2: 555878\n",
      "[185]\tvalid_0's l1: 506.219\tvalid_0's l2: 555855\n",
      "[186]\tvalid_0's l1: 506.125\tvalid_0's l2: 555737\n",
      "[187]\tvalid_0's l1: 506.075\tvalid_0's l2: 555696\n",
      "[188]\tvalid_0's l1: 505.952\tvalid_0's l2: 555706\n",
      "[189]\tvalid_0's l1: 505.858\tvalid_0's l2: 555719\n",
      "Early stopping, best iteration is:\n",
      "[183]\tvalid_0's l1: 506.352\tvalid_0's l2: 555691\n"
     ]
    }
   ],
   "source": [
    "gbm = lgb.train(params,\n",
    "                d_train,\n",
    "                num_boost_round=200,\n",
    "                valid_sets=d_valid,\n",
    "                early_stopping_rounds=6)\n"
   ]
  },
  {
   "cell_type": "code",
   "execution_count": 270,
   "metadata": {},
   "outputs": [
    {
     "data": {
      "text/html": [
       "<div>\n",
       "<style scoped>\n",
       "    .dataframe tbody tr th:only-of-type {\n",
       "        vertical-align: middle;\n",
       "    }\n",
       "\n",
       "    .dataframe tbody tr th {\n",
       "        vertical-align: top;\n",
       "    }\n",
       "\n",
       "    .dataframe thead th {\n",
       "        text-align: right;\n",
       "    }\n",
       "</style>\n",
       "<table border=\"1\" class=\"dataframe\">\n",
       "  <thead>\n",
       "    <tr style=\"text-align: right;\">\n",
       "      <th></th>\n",
       "      <th>Time from Pickup to Arrival</th>\n",
       "    </tr>\n",
       "    <tr>\n",
       "      <th>Order_No</th>\n",
       "      <th></th>\n",
       "    </tr>\n",
       "  </thead>\n",
       "  <tbody>\n",
       "    <tr>\n",
       "      <td>Order_No_19248</td>\n",
       "      <td>1667.975180</td>\n",
       "    </tr>\n",
       "    <tr>\n",
       "      <td>Order_No_12736</td>\n",
       "      <td>1853.681218</td>\n",
       "    </tr>\n",
       "    <tr>\n",
       "      <td>Order_No_768</td>\n",
       "      <td>1769.542217</td>\n",
       "    </tr>\n",
       "    <tr>\n",
       "      <td>Order_No_15332</td>\n",
       "      <td>1826.710553</td>\n",
       "    </tr>\n",
       "    <tr>\n",
       "      <td>Order_No_21373</td>\n",
       "      <td>1834.559368</td>\n",
       "    </tr>\n",
       "    <tr>\n",
       "      <td>...</td>\n",
       "      <td>...</td>\n",
       "    </tr>\n",
       "    <tr>\n",
       "      <td>Order_No_3612</td>\n",
       "      <td>2456.460962</td>\n",
       "    </tr>\n",
       "    <tr>\n",
       "      <td>Order_No_7657</td>\n",
       "      <td>1838.096636</td>\n",
       "    </tr>\n",
       "    <tr>\n",
       "      <td>Order_No_1969</td>\n",
       "      <td>1839.288129</td>\n",
       "    </tr>\n",
       "    <tr>\n",
       "      <td>Order_No_10591</td>\n",
       "      <td>1575.424243</td>\n",
       "    </tr>\n",
       "    <tr>\n",
       "      <td>Order_No_1603</td>\n",
       "      <td>2154.184821</td>\n",
       "    </tr>\n",
       "  </tbody>\n",
       "</table>\n",
       "<p>7068 rows × 1 columns</p>\n",
       "</div>"
      ],
      "text/plain": [
       "                Time from Pickup to Arrival\n",
       "Order_No                                   \n",
       "Order_No_19248                  1667.975180\n",
       "Order_No_12736                  1853.681218\n",
       "Order_No_768                    1769.542217\n",
       "Order_No_15332                  1826.710553\n",
       "Order_No_21373                  1834.559368\n",
       "...                                     ...\n",
       "Order_No_3612                   2456.460962\n",
       "Order_No_7657                   1838.096636\n",
       "Order_No_1969                   1839.288129\n",
       "Order_No_10591                  1575.424243\n",
       "Order_No_1603                   2154.184821\n",
       "\n",
       "[7068 rows x 1 columns]"
      ]
     },
     "execution_count": 270,
     "metadata": {},
     "output_type": "execute_result"
    }
   ],
   "source": [
    "create_submission(df_sample=df_sample_submission, df_test=df_test, model=gbm, name='lgbm-base')"
   ]
  },
  {
   "cell_type": "markdown",
   "metadata": {},
   "source": [
    "#### FEATURE 5"
   ]
  },
  {
   "cell_type": "code",
   "execution_count": 271,
   "metadata": {},
   "outputs": [],
   "source": [
    "df = pd.read_feather('tmp/df_base')"
   ]
  },
  {
   "cell_type": "code",
   "execution_count": null,
   "metadata": {},
   "outputs": [],
   "source": [
    "df"
   ]
  }
 ],
 "metadata": {
  "kernelspec": {
   "display_name": "Python 3",
   "language": "python",
   "name": "python3"
  },
  "language_info": {
   "codemirror_mode": {
    "name": "ipython",
    "version": 3
   },
   "file_extension": ".py",
   "mimetype": "text/x-python",
   "name": "python",
   "nbconvert_exporter": "python",
   "pygments_lexer": "ipython3",
   "version": "3.7.3"
  }
 },
 "nbformat": 4,
 "nbformat_minor": 2
}
