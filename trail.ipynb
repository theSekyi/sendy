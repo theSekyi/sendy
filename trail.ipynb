{
 "cells": [
  {
   "cell_type": "code",
   "execution_count": 1,
   "metadata": {},
   "outputs": [],
   "source": [
    "%load_ext autoreload\n",
    "%autoreload 2\n",
    "\n",
    "%matplotlib inline"
   ]
  },
  {
   "cell_type": "code",
   "execution_count": 2,
   "metadata": {},
   "outputs": [],
   "source": [
    "import warnings\n",
    "warnings.filterwarnings(\"ignore\")"
   ]
  },
  {
   "cell_type": "code",
   "execution_count": 3,
   "metadata": {},
   "outputs": [],
   "source": [
    "import pandas as pd\n",
    "import matplotlib.pyplot as plt\n",
    "import numpy as np"
   ]
  },
  {
   "cell_type": "code",
   "execution_count": 4,
   "metadata": {},
   "outputs": [],
   "source": [
    "from sklearn.model_selection import train_test_split"
   ]
  },
  {
   "cell_type": "code",
   "execution_count": 5,
   "metadata": {},
   "outputs": [],
   "source": [
    "from src.utils import *\n",
    "from src.cleaning import *"
   ]
  },
  {
   "cell_type": "code",
   "execution_count": 7,
   "metadata": {},
   "outputs": [],
   "source": [
    "train = pd.read_pickle(\"meetup_data.pkl\")\n",
    "test = pd.read_pickle(\"meetup_test.pkl\")"
   ]
  },
  {
   "cell_type": "code",
   "execution_count": 8,
   "metadata": {},
   "outputs": [
    {
     "data": {
      "text/plain": [
       "Index(['Order No', 'User Id', 'Pickup - Day of Month',\n",
       "       'Pickup - Weekday (Mo = 1)', 'Distance (KM)', 'Temperature',\n",
       "       'Pickup Lat', 'Pickup Long', 'Destination Lat', 'Destination Long',\n",
       "       'Rider Id', 'Time from Pickup to Arrival', 'No_Of_Orders', 'Age',\n",
       "       'Average_Rating', 'No_of_Ratings', 'geopy_distance', 'Pickup - hour'],\n",
       "      dtype='object')"
      ]
     },
     "execution_count": 8,
     "metadata": {},
     "output_type": "execute_result"
    }
   ],
   "source": [
    "train.columns"
   ]
  },
  {
   "cell_type": "code",
   "execution_count": 10,
   "metadata": {},
   "outputs": [],
   "source": [
    "X_train, X_test, y_train, y_test = train_test_split(\n",
    "    train.drop([\"Time from Pickup to Arrival\"],axis=1), train['Time from Pickup to Arrival'], test_size=0.33, random_state=42)"
   ]
  },
  {
   "cell_type": "code",
   "execution_count": 13,
   "metadata": {},
   "outputs": [
    {
     "name": "stdout",
     "output_type": "stream",
     "text": [
      "[1]\tvalid_0's l1: 737.647\tvalid_0's l2: 954132\n",
      "Training until validation scores don't improve for 10 rounds.\n",
      "[2]\tvalid_0's l1: 722.637\tvalid_0's l2: 922825\n",
      "[3]\tvalid_0's l1: 708.792\tvalid_0's l2: 894554\n",
      "[4]\tvalid_0's l1: 695.594\tvalid_0's l2: 868041\n",
      "[5]\tvalid_0's l1: 683.567\tvalid_0's l2: 844440\n",
      "[6]\tvalid_0's l1: 672.288\tvalid_0's l2: 823092\n",
      "[7]\tvalid_0's l1: 661.917\tvalid_0's l2: 803875\n",
      "[8]\tvalid_0's l1: 652.347\tvalid_0's l2: 786442\n",
      "[9]\tvalid_0's l1: 643.468\tvalid_0's l2: 770758\n",
      "[10]\tvalid_0's l1: 635.253\tvalid_0's l2: 756197\n",
      "[11]\tvalid_0's l1: 627.149\tvalid_0's l2: 741849\n",
      "[12]\tvalid_0's l1: 619.952\tvalid_0's l2: 729162\n",
      "[13]\tvalid_0's l1: 613.11\tvalid_0's l2: 717132\n",
      "[14]\tvalid_0's l1: 606.704\tvalid_0's l2: 706528\n",
      "[15]\tvalid_0's l1: 600.888\tvalid_0's l2: 697036\n",
      "[16]\tvalid_0's l1: 595.791\tvalid_0's l2: 688809\n",
      "[17]\tvalid_0's l1: 590.997\tvalid_0's l2: 681382\n",
      "[18]\tvalid_0's l1: 586.296\tvalid_0's l2: 673764\n",
      "[19]\tvalid_0's l1: 581.705\tvalid_0's l2: 666476\n",
      "[20]\tvalid_0's l1: 577.398\tvalid_0's l2: 660015\n",
      "[21]\tvalid_0's l1: 573.537\tvalid_0's l2: 654071\n",
      "[22]\tvalid_0's l1: 569.885\tvalid_0's l2: 648625\n",
      "[23]\tvalid_0's l1: 566.587\tvalid_0's l2: 643765\n",
      "[24]\tvalid_0's l1: 563.238\tvalid_0's l2: 639005\n",
      "[25]\tvalid_0's l1: 560.421\tvalid_0's l2: 634429\n",
      "[26]\tvalid_0's l1: 557.66\tvalid_0's l2: 630334\n",
      "[27]\tvalid_0's l1: 555.259\tvalid_0's l2: 626821\n",
      "[28]\tvalid_0's l1: 553.031\tvalid_0's l2: 623516\n",
      "[29]\tvalid_0's l1: 550.677\tvalid_0's l2: 619972\n",
      "[30]\tvalid_0's l1: 548.737\tvalid_0's l2: 616877\n",
      "[31]\tvalid_0's l1: 547.395\tvalid_0's l2: 614228\n",
      "[32]\tvalid_0's l1: 545.419\tvalid_0's l2: 611441\n",
      "[33]\tvalid_0's l1: 543.43\tvalid_0's l2: 608684\n",
      "[34]\tvalid_0's l1: 541.985\tvalid_0's l2: 606608\n",
      "[35]\tvalid_0's l1: 540.222\tvalid_0's l2: 604086\n",
      "[36]\tvalid_0's l1: 538.788\tvalid_0's l2: 602191\n",
      "[37]\tvalid_0's l1: 537.288\tvalid_0's l2: 600147\n",
      "[38]\tvalid_0's l1: 535.778\tvalid_0's l2: 597812\n",
      "[39]\tvalid_0's l1: 534.219\tvalid_0's l2: 595985\n",
      "[40]\tvalid_0's l1: 532.834\tvalid_0's l2: 594156\n",
      "[41]\tvalid_0's l1: 531.825\tvalid_0's l2: 592965\n",
      "[42]\tvalid_0's l1: 530.678\tvalid_0's l2: 591066\n",
      "[43]\tvalid_0's l1: 529.881\tvalid_0's l2: 590199\n",
      "[44]\tvalid_0's l1: 528.993\tvalid_0's l2: 589156\n",
      "[45]\tvalid_0's l1: 528.186\tvalid_0's l2: 587953\n",
      "[46]\tvalid_0's l1: 527.346\tvalid_0's l2: 586677\n",
      "[47]\tvalid_0's l1: 526.728\tvalid_0's l2: 585774\n",
      "[48]\tvalid_0's l1: 526.011\tvalid_0's l2: 584820\n",
      "[49]\tvalid_0's l1: 525.425\tvalid_0's l2: 584012\n",
      "[50]\tvalid_0's l1: 524.89\tvalid_0's l2: 583151\n",
      "[51]\tvalid_0's l1: 524.407\tvalid_0's l2: 582474\n",
      "[52]\tvalid_0's l1: 524.065\tvalid_0's l2: 582141\n",
      "[53]\tvalid_0's l1: 523.574\tvalid_0's l2: 581498\n",
      "[54]\tvalid_0's l1: 523.212\tvalid_0's l2: 581067\n",
      "[55]\tvalid_0's l1: 523.103\tvalid_0's l2: 580720\n",
      "[56]\tvalid_0's l1: 522.863\tvalid_0's l2: 580330\n",
      "[57]\tvalid_0's l1: 522.6\tvalid_0's l2: 579869\n",
      "[58]\tvalid_0's l1: 522.379\tvalid_0's l2: 579319\n",
      "[59]\tvalid_0's l1: 522.27\tvalid_0's l2: 579181\n",
      "[60]\tvalid_0's l1: 522.166\tvalid_0's l2: 579040\n",
      "[61]\tvalid_0's l1: 521.831\tvalid_0's l2: 578492\n",
      "[62]\tvalid_0's l1: 521.568\tvalid_0's l2: 578008\n",
      "[63]\tvalid_0's l1: 521.291\tvalid_0's l2: 577694\n",
      "[64]\tvalid_0's l1: 521.117\tvalid_0's l2: 577358\n",
      "[65]\tvalid_0's l1: 520.934\tvalid_0's l2: 577208\n",
      "[66]\tvalid_0's l1: 520.725\tvalid_0's l2: 576963\n",
      "[67]\tvalid_0's l1: 520.361\tvalid_0's l2: 576440\n",
      "[68]\tvalid_0's l1: 519.987\tvalid_0's l2: 575902\n",
      "[69]\tvalid_0's l1: 519.882\tvalid_0's l2: 575858\n",
      "[70]\tvalid_0's l1: 519.871\tvalid_0's l2: 575936\n",
      "[71]\tvalid_0's l1: 519.604\tvalid_0's l2: 575530\n",
      "[72]\tvalid_0's l1: 519.621\tvalid_0's l2: 575482\n",
      "[73]\tvalid_0's l1: 519.538\tvalid_0's l2: 575353\n",
      "[74]\tvalid_0's l1: 519.465\tvalid_0's l2: 575094\n",
      "[75]\tvalid_0's l1: 519.314\tvalid_0's l2: 575024\n",
      "[76]\tvalid_0's l1: 519.511\tvalid_0's l2: 575190\n",
      "[77]\tvalid_0's l1: 519.64\tvalid_0's l2: 575334\n",
      "[78]\tvalid_0's l1: 519.837\tvalid_0's l2: 575674\n",
      "[79]\tvalid_0's l1: 519.845\tvalid_0's l2: 575623\n",
      "[80]\tvalid_0's l1: 519.955\tvalid_0's l2: 575818\n",
      "[81]\tvalid_0's l1: 519.83\tvalid_0's l2: 575875\n",
      "[82]\tvalid_0's l1: 519.976\tvalid_0's l2: 576296\n",
      "[83]\tvalid_0's l1: 519.897\tvalid_0's l2: 576285\n",
      "[84]\tvalid_0's l1: 519.961\tvalid_0's l2: 576387\n",
      "[85]\tvalid_0's l1: 519.887\tvalid_0's l2: 576367\n",
      "Early stopping, best iteration is:\n",
      "[75]\tvalid_0's l1: 519.314\tvalid_0's l2: 575024\n"
     ]
    }
   ],
   "source": [
    "import lightgbm as lgb\n",
    "params = {\n",
    "    'boosting_type': 'gbdt',\n",
    "    'objective': 'regression',\n",
    "    'metric': {'l2', 'l1'},\n",
    "    'num_leaves': 31,\n",
    "    'learning_rate': 0.05,\n",
    "    'feature_fraction': 0.9,\n",
    "    'bagging_fraction': 0.8,\n",
    "    'bagging_freq': 5,\n",
    "    'verbose': 0\n",
    "}\n",
    "d_train = lgb.Dataset(X_train, label=y_train)\n",
    "d_valid = lgb.Dataset(X_test, label=y_test)\n",
    "gbm = lgb.train(params,\n",
    "                d_train,\n",
    "                num_boost_round=200,\n",
    "                valid_sets=d_valid,\n",
    "                early_stopping_rounds=10)\n"
   ]
  },
  {
   "cell_type": "code",
   "execution_count": 14,
   "metadata": {},
   "outputs": [],
   "source": [
    "df_sample_submission = pd.read_csv('data/SampleSubmission.csv')\n",
    "df_variable_definitions = pd.read_csv('data/VariableDefinitions.csv')"
   ]
  },
  {
   "cell_type": "code",
   "execution_count": 15,
   "metadata": {},
   "outputs": [
    {
     "data": {
      "text/html": [
       "<div>\n",
       "<style scoped>\n",
       "    .dataframe tbody tr th:only-of-type {\n",
       "        vertical-align: middle;\n",
       "    }\n",
       "\n",
       "    .dataframe tbody tr th {\n",
       "        vertical-align: top;\n",
       "    }\n",
       "\n",
       "    .dataframe thead th {\n",
       "        text-align: right;\n",
       "    }\n",
       "</style>\n",
       "<table border=\"1\" class=\"dataframe\">\n",
       "  <thead>\n",
       "    <tr style=\"text-align: right;\">\n",
       "      <th></th>\n",
       "      <th>Time from Pickup to Arrival</th>\n",
       "    </tr>\n",
       "    <tr>\n",
       "      <th>Order_No</th>\n",
       "      <th></th>\n",
       "    </tr>\n",
       "  </thead>\n",
       "  <tbody>\n",
       "    <tr>\n",
       "      <td>Order_No_19248</td>\n",
       "      <td>1677.600405</td>\n",
       "    </tr>\n",
       "    <tr>\n",
       "      <td>Order_No_12736</td>\n",
       "      <td>2975.239718</td>\n",
       "    </tr>\n",
       "    <tr>\n",
       "      <td>Order_No_768</td>\n",
       "      <td>1926.355572</td>\n",
       "    </tr>\n",
       "    <tr>\n",
       "      <td>Order_No_15332</td>\n",
       "      <td>2480.497734</td>\n",
       "    </tr>\n",
       "    <tr>\n",
       "      <td>Order_No_21373</td>\n",
       "      <td>2644.217422</td>\n",
       "    </tr>\n",
       "    <tr>\n",
       "      <td>...</td>\n",
       "      <td>...</td>\n",
       "    </tr>\n",
       "    <tr>\n",
       "      <td>Order_No_3612</td>\n",
       "      <td>1489.892597</td>\n",
       "    </tr>\n",
       "    <tr>\n",
       "      <td>Order_No_7657</td>\n",
       "      <td>2941.013545</td>\n",
       "    </tr>\n",
       "    <tr>\n",
       "      <td>Order_No_1969</td>\n",
       "      <td>1779.309163</td>\n",
       "    </tr>\n",
       "    <tr>\n",
       "      <td>Order_No_10591</td>\n",
       "      <td>2351.735945</td>\n",
       "    </tr>\n",
       "    <tr>\n",
       "      <td>Order_No_1603</td>\n",
       "      <td>1010.796708</td>\n",
       "    </tr>\n",
       "  </tbody>\n",
       "</table>\n",
       "<p>7068 rows × 1 columns</p>\n",
       "</div>"
      ],
      "text/plain": [
       "                Time from Pickup to Arrival\n",
       "Order_No                                   \n",
       "Order_No_19248                  1677.600405\n",
       "Order_No_12736                  2975.239718\n",
       "Order_No_768                    1926.355572\n",
       "Order_No_15332                  2480.497734\n",
       "Order_No_21373                  2644.217422\n",
       "...                                     ...\n",
       "Order_No_3612                   1489.892597\n",
       "Order_No_7657                   2941.013545\n",
       "Order_No_1969                   1779.309163\n",
       "Order_No_10591                  2351.735945\n",
       "Order_No_1603                   1010.796708\n",
       "\n",
       "[7068 rows x 1 columns]"
      ]
     },
     "execution_count": 15,
     "metadata": {},
     "output_type": "execute_result"
    }
   ],
   "source": [
    "create_submission(df_sample=df_sample_submission, df_test=test, model=gbm, name='trial')"
   ]
  },
  {
   "cell_type": "code",
   "execution_count": null,
   "metadata": {},
   "outputs": [],
   "source": []
  }
 ],
 "metadata": {
  "kernelspec": {
   "display_name": "Python 3",
   "language": "python",
   "name": "python3"
  },
  "language_info": {
   "codemirror_mode": {
    "name": "ipython",
    "version": 3
   },
   "file_extension": ".py",
   "mimetype": "text/x-python",
   "name": "python",
   "nbconvert_exporter": "python",
   "pygments_lexer": "ipython3",
   "version": "3.7.3"
  }
 },
 "nbformat": 4,
 "nbformat_minor": 2
}
